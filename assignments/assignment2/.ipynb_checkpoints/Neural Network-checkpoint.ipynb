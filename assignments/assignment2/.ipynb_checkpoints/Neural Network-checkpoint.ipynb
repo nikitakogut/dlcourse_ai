{
 "cells": [
  {
   "cell_type": "markdown",
   "metadata": {},
   "source": [
    "# Задание 2.1 - Нейронные сети\n",
    "\n",
    "В этом задании вы реализуете и натренируете настоящую нейроную сеть своими руками!\n",
    "\n",
    "В некотором смысле это будет расширением прошлого задания - нам нужно просто составить несколько линейных классификаторов вместе!\n",
    "\n",
    "<img src=\"https://i.redd.it/n9fgba8b0qr01.png\" alt=\"Stack_more_layers\" width=\"400px\"/>"
   ]
  },
  {
   "cell_type": "code",
   "execution_count": 1,
   "metadata": {},
   "outputs": [],
   "source": [
    "import numpy as np\n",
    "import matplotlib.pyplot as plt\n",
    "\n",
    "%matplotlib inline\n",
    "\n",
    "%load_ext autoreload\n",
    "%autoreload 2"
   ]
  },
  {
   "cell_type": "code",
   "execution_count": 2,
   "metadata": {},
   "outputs": [],
   "source": [
    "from dataset import load_svhn, random_split_train_val\n",
    "from gradient_check import check_layer_gradient, check_layer_param_gradient, check_model_gradient\n",
    "from layers import FullyConnectedLayer, ReLULayer\n",
    "from model import TwoLayerNet\n",
    "from trainer import Trainer, Dataset\n",
    "from optim import SGD, MomentumSGD\n",
    "from metrics import multiclass_accuracy"
   ]
  },
  {
   "cell_type": "markdown",
   "metadata": {},
   "source": [
    "# Загружаем данные\n",
    "\n",
    "И разделяем их на training и validation."
   ]
  },
  {
   "cell_type": "code",
   "execution_count": 3,
   "metadata": {},
   "outputs": [],
   "source": [
    "def prepare_for_neural_network(train_X, test_X):\n",
    "    train_flat = train_X.reshape(train_X.shape[0], -1).astype(np.float) / 255.0\n",
    "    test_flat = test_X.reshape(test_X.shape[0], -1).astype(np.float) / 255.0\n",
    "    \n",
    "    # Subtract mean\n",
    "    mean_image = np.mean(train_flat, axis = 0)\n",
    "    train_flat -= mean_image\n",
    "    test_flat -= mean_image\n",
    "    \n",
    "    return train_flat, test_flat\n",
    "    \n",
    "train_X, train_y, test_X, test_y = load_svhn(\"data\", max_train=10000, max_test=1000)    \n",
    "train_X, test_X = prepare_for_neural_network(train_X, test_X)\n",
    "# Split train into train and val\n",
    "train_X, train_y, val_X, val_y = random_split_train_val(train_X, train_y, num_val = 1000)"
   ]
  },
  {
   "cell_type": "markdown",
   "metadata": {},
   "source": [
    "# Как всегда, начинаем с кирпичиков\n",
    "\n",
    "Мы будем реализовывать необходимые нам слои по очереди. Каждый слой должен реализовать:\n",
    "- прямой проход (forward pass), который генерирует выход слоя по входу и запоминает необходимые данные\n",
    "- обратный проход (backward pass), который получает градиент по выходу слоя и вычисляет градиент по входу и по параметрам\n",
    "\n",
    "Начнем с ReLU, у которого параметров нет."
   ]
  },
  {
   "cell_type": "code",
   "execution_count": 4,
   "metadata": {
    "scrolled": false
   },
   "outputs": [
    {
     "name": "stdout",
     "output_type": "stream",
     "text": [
      "Gradient check passed!\n"
     ]
    }
   ],
   "source": [
    "# TODO: Implement ReLULayer layer in layers.py\n",
    "# Note: you'll need to copy implementation of the gradient_check function from the previous assignment\n",
    "\n",
    "X = np.array([[1,-2,3],\n",
    "              [-1, 2, 0.1]\n",
    "              ])\n",
    "\n",
    "assert check_layer_gradient(ReLULayer(), X)"
   ]
  },
  {
   "cell_type": "markdown",
   "metadata": {},
   "source": [
    "А теперь реализуем полносвязный слой (fully connected layer), у которого будет два массива параметров: W (weights) и B (bias).\n",
    "\n",
    "Все параметры наши слои будут использовать для параметров специальный класс `Param`, в котором будут храниться значения параметров и градиенты этих параметров, вычисляемые во время обратного прохода.\n",
    "\n",
    "Это даст возможность аккумулировать (суммировать) градиенты из разных частей функции потерь, например, из cross-entropy loss и regularization loss."
   ]
  },
  {
   "cell_type": "code",
   "execution_count": 9,
   "metadata": {},
   "outputs": [
    {
     "name": "stdout",
     "output_type": "stream",
     "text": [
      "Gradient check passed!\n",
      "Gradient check passed!\n",
      "Gradient check passed!\n"
     ]
    }
   ],
   "source": [
    "# TODO: Implement FullyConnected layer forward and backward methods\n",
    "assert check_layer_gradient(FullyConnectedLayer(3, 4), X)\n",
    "# TODO: Implement storing gradients for W and B\n",
    "assert check_layer_param_gradient(FullyConnectedLayer(3, 4), X, 'W')\n",
    "assert check_layer_param_gradient(FullyConnectedLayer(3, 4), X, 'B')"
   ]
  },
  {
   "cell_type": "markdown",
   "metadata": {},
   "source": [
    "## Создаем нейронную сеть\n",
    "\n",
    "Теперь мы реализуем простейшую нейронную сеть с двумя полносвязным слоями и нелинейностью ReLU. Реализуйте функцию `compute_loss_and_gradients`, она должна запустить прямой и обратный проход через оба слоя для вычисления градиентов.\n",
    "\n",
    "Не забудьте реализовать очистку градиентов в начале функции."
   ]
  },
  {
   "cell_type": "code",
   "execution_count": 11,
   "metadata": {},
   "outputs": [
    {
     "name": "stdout",
     "output_type": "stream",
     "text": [
      "Checking gradient for layer_1.0_W\n",
      "Gradient check passed!\n",
      "Checking gradient for layer_1.0_B\n",
      "Gradient check passed!\n",
      "Checking gradient for layer_2.0_W\n",
      "Gradient check passed!\n",
      "Checking gradient for layer_2.0_B\n",
      "Gradient check passed!\n"
     ]
    },
    {
     "data": {
      "text/plain": [
       "True"
      ]
     },
     "execution_count": 11,
     "metadata": {},
     "output_type": "execute_result"
    }
   ],
   "source": [
    "# TODO: In model.py, implement compute_loss_and_gradients function\n",
    "model = TwoLayerNet(n_input = train_X.shape[1], n_output = 10, hidden_layer_size = 2, reg = 0)\n",
    "loss = model.compute_loss_and_gradients(train_X[:10], train_y[:10])\n",
    "\n",
    "# TODO Now implement backward pass and aggregate all of the params\n",
    "check_model_gradient(model, train_X[:10], train_y[:10])"
   ]
  },
  {
   "cell_type": "markdown",
   "metadata": {},
   "source": [
    "Теперь добавьте к модели регуляризацию - она должна прибавляться к loss и делать свой вклад в градиенты."
   ]
  },
  {
   "cell_type": "code",
   "execution_count": 12,
   "metadata": {},
   "outputs": [
    {
     "name": "stdout",
     "output_type": "stream",
     "text": [
      "Checking gradient for layer_1.0_W\n",
      "Gradient check passed!\n",
      "Checking gradient for layer_1.0_B\n",
      "Gradient check passed!\n",
      "Checking gradient for layer_2.0_W\n",
      "Gradient check passed!\n",
      "Checking gradient for layer_2.0_B\n",
      "Gradient check passed!\n"
     ]
    },
    {
     "data": {
      "text/plain": [
       "True"
      ]
     },
     "execution_count": 12,
     "metadata": {},
     "output_type": "execute_result"
    }
   ],
   "source": [
    "# TODO Now implement l2 regularization in the forward and backward pass\n",
    "model_with_reg = TwoLayerNet(n_input = train_X.shape[1], n_output = 10, hidden_layer_size = 3, reg = 1e-1)\n",
    "loss_with_reg = model_with_reg.compute_loss_and_gradients(train_X[:10], train_y[:10])\n",
    "assert loss_with_reg > loss and not np.isclose(loss_with_reg, loss), \\\n",
    "    \"Loss with regularization (%2.4f) should be higher than without it (%2.4f)!\" % (loss, loss_with_reg)\n",
    "\n",
    "check_model_gradient(model_with_reg, train_X[:10], train_y[:10])"
   ]
  },
  {
   "cell_type": "markdown",
   "metadata": {},
   "source": [
    "Также реализуем функцию предсказания (вычисления значения) модели на новых данных.\n",
    "\n",
    "Какое значение точности мы ожидаем увидеть до начала тренировки?"
   ]
  },
  {
   "cell_type": "code",
   "execution_count": 13,
   "metadata": {},
   "outputs": [
    {
     "data": {
      "text/plain": [
       "0.06666666666666667"
      ]
     },
     "execution_count": 13,
     "metadata": {},
     "output_type": "execute_result"
    }
   ],
   "source": [
    "# Finally, implement predict function!\n",
    "\n",
    "# TODO: Implement predict function\n",
    "# What would be the value we expect?\n",
    "multiclass_accuracy(model_with_reg.predict(train_X[:30]), train_y[:30]) "
   ]
  },
  {
   "cell_type": "code",
   "execution_count": 14,
   "metadata": {},
   "outputs": [],
   "source": [
    "def display_history(train_history, val_history, loss_history):\n",
    "    plt.figure(figsize=(14, 5))\n",
    "    plt.subplot('121')\n",
    "    plt.title(\"Train/Validation accuracy\")\n",
    "    plt.plot(train_history, label='train')\n",
    "    plt.plot(val_history, label='val')\n",
    "    plt.legend()\n",
    "    plt.subplot('122')\n",
    "    plt.title(\"Loss\")\n",
    "    plt.plot(loss_history, label='loss')\n",
    "    plt.legend();"
   ]
  },
  {
   "cell_type": "markdown",
   "metadata": {},
   "source": [
    "# Допишем код для процесса тренировки"
   ]
  },
  {
   "cell_type": "code",
   "execution_count": 24,
   "metadata": {},
   "outputs": [
    {
     "name": "stdout",
     "output_type": "stream",
     "text": [
      "Loss: 2.256315, Train accuracy: 0.196667, val accuracy: 0.206000\n",
      "Loss: 2.231389, Train accuracy: 0.196667, val accuracy: 0.206000\n",
      "Loss: 2.216133, Train accuracy: 0.196667, val accuracy: 0.206000\n",
      "Loss: 2.163351, Train accuracy: 0.244556, val accuracy: 0.249000\n",
      "Loss: 2.091889, Train accuracy: 0.272333, val accuracy: 0.270000\n",
      "Loss: 1.992203, Train accuracy: 0.331333, val accuracy: 0.333000\n",
      "Loss: 1.871460, Train accuracy: 0.389000, val accuracy: 0.379000\n",
      "Loss: 1.770786, Train accuracy: 0.433556, val accuracy: 0.420000\n",
      "Loss: 1.689442, Train accuracy: 0.487111, val accuracy: 0.477000\n",
      "Loss: 1.606540, Train accuracy: 0.516222, val accuracy: 0.495000\n",
      "Loss: 1.537098, Train accuracy: 0.562556, val accuracy: 0.549000\n",
      "Loss: 1.472286, Train accuracy: 0.598778, val accuracy: 0.573000\n",
      "Loss: 1.425162, Train accuracy: 0.625222, val accuracy: 0.605000\n",
      "Loss: 1.384507, Train accuracy: 0.640444, val accuracy: 0.635000\n",
      "Loss: 1.353269, Train accuracy: 0.659889, val accuracy: 0.655000\n",
      "Loss: 1.330746, Train accuracy: 0.668667, val accuracy: 0.657000\n",
      "Loss: 1.306439, Train accuracy: 0.688556, val accuracy: 0.675000\n",
      "Loss: 1.291956, Train accuracy: 0.693333, val accuracy: 0.679000\n",
      "Loss: 1.278511, Train accuracy: 0.690778, val accuracy: 0.672000\n",
      "Loss: 1.264389, Train accuracy: 0.711889, val accuracy: 0.691000\n",
      "Loss: 1.251939, Train accuracy: 0.712444, val accuracy: 0.690000\n",
      "Loss: 1.242402, Train accuracy: 0.722000, val accuracy: 0.696000\n",
      "Loss: 1.233200, Train accuracy: 0.733778, val accuracy: 0.707000\n",
      "Loss: 1.224319, Train accuracy: 0.728778, val accuracy: 0.699000\n",
      "Loss: 1.217220, Train accuracy: 0.737889, val accuracy: 0.701000\n",
      "Loss: 1.212316, Train accuracy: 0.722222, val accuracy: 0.687000\n",
      "Loss: 1.207171, Train accuracy: 0.743556, val accuracy: 0.701000\n",
      "Loss: 1.199508, Train accuracy: 0.737667, val accuracy: 0.693000\n",
      "Loss: 1.192844, Train accuracy: 0.747667, val accuracy: 0.718000\n",
      "Loss: 1.190698, Train accuracy: 0.759778, val accuracy: 0.711000\n"
     ]
    }
   ],
   "source": [
    "model = TwoLayerNet(n_input = train_X.shape[1], n_output = 10, hidden_layer_size = 100, reg = .25e-2)\n",
    "dataset = Dataset(train_X, train_y, val_X, val_y)\n",
    "trainer = Trainer(model, dataset, SGD(), learning_rate=.25e-1, num_epochs=30)\n",
    "\n",
    "# TODO Implement missing pieces in Trainer.fit function\n",
    "# You should expect loss to go down and train and val accuracy go up for every epoch\n",
    "loss_history, train_history, val_history = trainer.fit()"
   ]
  },
  {
   "cell_type": "code",
   "execution_count": 25,
   "metadata": {},
   "outputs": [
    {
     "data": {
      "image/png": "[encoded data removed]",
      "text/plain": [
       "<Figure size 1008x360 with 2 Axes>"
      ]
     },
     "metadata": {
      "needs_background": "light"
     },
     "output_type": "display_data"
    }
   ],
   "source": [
    "display_history(train_history, val_history, loss_history)"
   ]
  },
  {
   "cell_type": "markdown",
   "metadata": {},
   "source": [
    "# Улучшаем процесс тренировки\n",
    "\n",
    "Мы реализуем несколько ключевых оптимизаций, необходимых для тренировки современных нейросетей."
   ]
  },
  {
   "cell_type": "markdown",
   "metadata": {},
   "source": [
    "## Уменьшение скорости обучения (learning rate decay)\n",
    "\n",
    "Одна из необходимых оптимизаций во время тренировки нейронных сетей - постепенное уменьшение скорости обучения по мере тренировки.\n",
    "\n",
    "Один из стандартных методов - уменьшение скорости обучения (learning rate) каждые N эпох на коэффициент d (часто называемый decay). Значения N и d, как всегда, являются гиперпараметрами и должны подбираться на основе эффективности на проверочных данных (validation data). \n",
    "\n",
    "В нашем случае N будет равным 1."
   ]
  },
  {
   "cell_type": "code",
   "execution_count": 53,
   "metadata": {},
   "outputs": [
    {
     "name": "stdout",
     "output_type": "stream",
     "text": [
      "Epoch: 1, Loss: 2.253221, Train accuracy: 0.196667, val accuracy: 0.206000\n",
      "Epoch: 2, Loss: 2.229436, Train accuracy: 0.196667, val accuracy: 0.206000\n",
      "Epoch: 3, Loss: 2.195210, Train accuracy: 0.202667, val accuracy: 0.213000\n",
      "Epoch: 4, Loss: 2.122804, Train accuracy: 0.272111, val accuracy: 0.275000\n",
      "Epoch: 5, Loss: 2.023819, Train accuracy: 0.306889, val accuracy: 0.306000\n",
      "Epoch: 6, Loss: 1.882657, Train accuracy: 0.394000, val accuracy: 0.376000\n",
      "Epoch: 7, Loss: 1.749301, Train accuracy: 0.469333, val accuracy: 0.463000\n",
      "Epoch: 8, Loss: 1.648048, Train accuracy: 0.523889, val accuracy: 0.516000\n",
      "Epoch: 9, Loss: 1.563730, Train accuracy: 0.543556, val accuracy: 0.541000\n",
      "Epoch: 10, Loss: 1.494024, Train accuracy: 0.597556, val accuracy: 0.591000\n",
      "Epoch: 11, Loss: 1.433830, Train accuracy: 0.603778, val accuracy: 0.598000\n",
      "Epoch: 12, Loss: 1.387079, Train accuracy: 0.641111, val accuracy: 0.644000\n",
      "Epoch: 13, Loss: 1.352229, Train accuracy: 0.666444, val accuracy: 0.654000\n",
      "Epoch: 14, Loss: 1.322358, Train accuracy: 0.669000, val accuracy: 0.644000\n",
      "Epoch: 15, Loss: 1.301769, Train accuracy: 0.689000, val accuracy: 0.669000\n",
      "Epoch: 16, Loss: 1.283602, Train accuracy: 0.695222, val accuracy: 0.681000\n",
      "Epoch: 17, Loss: 1.269451, Train accuracy: 0.705111, val accuracy: 0.691000\n",
      "Epoch: 18, Loss: 1.255189, Train accuracy: 0.712667, val accuracy: 0.690000\n",
      "Epoch: 19, Loss: 1.245412, Train accuracy: 0.718333, val accuracy: 0.688000\n",
      "Epoch: 20, Loss: 1.232114, Train accuracy: 0.725111, val accuracy: 0.711000\n",
      "Epoch: 21, Loss: 1.226846, Train accuracy: 0.722000, val accuracy: 0.700000\n",
      "Epoch: 22, Loss: 1.218211, Train accuracy: 0.734556, val accuracy: 0.719000\n",
      "Epoch: 23, Loss: 1.210831, Train accuracy: 0.746889, val accuracy: 0.713000\n",
      "Epoch: 24, Loss: 1.204071, Train accuracy: 0.744111, val accuracy: 0.724000\n",
      "Epoch: 25, Loss: 1.199511, Train accuracy: 0.752333, val accuracy: 0.718000\n",
      "Epoch: 26, Loss: 1.194197, Train accuracy: 0.743778, val accuracy: 0.705000\n",
      "Epoch: 27, Loss: 1.189223, Train accuracy: 0.756333, val accuracy: 0.715000\n",
      "Epoch: 28, Loss: 1.185375, Train accuracy: 0.756667, val accuracy: 0.711000\n",
      "Epoch: 29, Loss: 1.180714, Train accuracy: 0.756889, val accuracy: 0.717000\n",
      "Epoch: 30, Loss: 1.179175, Train accuracy: 0.772667, val accuracy: 0.730000\n"
     ]
    }
   ],
   "source": [
    "# TODO Implement learning rate decay inside Trainer.fit method\n",
    "# Decay should happen once per epoch\n",
    "\n",
    "model = TwoLayerNet(n_input = train_X.shape[1], n_output = 10, hidden_layer_size = 100, reg = .25e-2)\n",
    "dataset = Dataset(train_X, train_y, val_X, val_y)\n",
    "trainer = Trainer(model, dataset, SGD(), learning_rate=.3e-1, learning_rate_decay=0.99, num_epochs=30)\n",
    "\n",
    "initial_learning_rate = trainer.learning_rate\n",
    "loss_history, train_history, val_history = trainer.fit()\n",
    "\n",
    "assert trainer.learning_rate < initial_learning_rate, \"Learning rate should've been reduced\"\n",
    "assert trainer.learning_rate > 0.5*initial_learning_rate, \"Learning rate shouldn'tve been reduced that much!\""
   ]
  },
  {
   "cell_type": "markdown",
   "metadata": {},
   "source": [
    "# display_history(train_history, val_history, loss_history)"
   ]
  },
  {
   "cell_type": "markdown",
   "metadata": {},
   "source": [
    "###### Накопление импульса (Momentum SGD)\n",
    "\n",
    "Другой большой класс оптимизаций - использование более эффективных методов градиентного спуска. Мы реализуем один из них - накопление импульса (Momentum SGD).\n",
    "\n",
    "Этот метод хранит скорость движения, использует градиент для ее изменения на каждом шаге, и изменяет веса пропорционально значению скорости.\n",
    "(Физическая аналогия: Вместо скорости градиенты теперь будут задавать ускорение, но будет присутствовать сила трения.)\n",
    "\n",
    "```\n",
    "velocity = momentum * velocity - learning_rate * gradient \n",
    "w = w + velocity\n",
    "```\n",
    "\n",
    "`momentum` здесь коэффициент затухания, который тоже является гиперпараметром (к счастью, для него часто есть хорошее значение по умолчанию, типичный диапазон -- 0.8-0.99).\n",
    "\n",
    "Несколько полезных ссылок, где метод разбирается более подробно:  \n",
    "http://cs231n.github.io/neural-networks-3/#sgd  \n",
    "https://distill.pub/2017/momentum/"
   ]
  },
  {
   "cell_type": "code",
   "execution_count": 38,
   "metadata": {
    "scrolled": false
   },
   "outputs": [
    {
     "name": "stdout",
     "output_type": "stream",
     "text": [
      "Epoch: 1, Loss: 2.250272, Train accuracy: 0.196667, Val accuracy: 0.206000\n",
      "Epoch: 2, Loss: 2.226532, Train accuracy: 0.196667, Val accuracy: 0.206000\n",
      "Epoch: 3, Loss: 2.180085, Train accuracy: 0.223778, Val accuracy: 0.225000\n",
      "Epoch: 4, Loss: 2.086307, Train accuracy: 0.277333, Val accuracy: 0.278000\n",
      "Epoch: 5, Loss: 1.941579, Train accuracy: 0.352444, Val accuracy: 0.356000\n",
      "Epoch: 6, Loss: 1.770196, Train accuracy: 0.435111, Val accuracy: 0.433000\n",
      "Epoch: 7, Loss: 1.647794, Train accuracy: 0.496889, Val accuracy: 0.465000\n",
      "Epoch: 8, Loss: 1.556215, Train accuracy: 0.557333, Val accuracy: 0.536000\n",
      "Epoch: 9, Loss: 1.466180, Train accuracy: 0.591444, Val accuracy: 0.570000\n",
      "Epoch: 10, Loss: 1.385416, Train accuracy: 0.632444, Val accuracy: 0.597000\n",
      "Epoch: 11, Loss: 1.324342, Train accuracy: 0.639000, Val accuracy: 0.610000\n",
      "Epoch: 12, Loss: 1.280826, Train accuracy: 0.670778, Val accuracy: 0.652000\n",
      "Epoch: 13, Loss: 1.242272, Train accuracy: 0.685333, Val accuracy: 0.662000\n",
      "Epoch: 14, Loss: 1.213614, Train accuracy: 0.694778, Val accuracy: 0.668000\n",
      "Epoch: 15, Loss: 1.187267, Train accuracy: 0.706556, Val accuracy: 0.674000\n",
      "Epoch: 16, Loss: 1.169847, Train accuracy: 0.709000, Val accuracy: 0.671000\n",
      "Epoch: 17, Loss: 1.149366, Train accuracy: 0.727667, Val accuracy: 0.694000\n",
      "Epoch: 18, Loss: 1.132013, Train accuracy: 0.731222, Val accuracy: 0.692000\n",
      "Epoch: 19, Loss: 1.116155, Train accuracy: 0.744778, Val accuracy: 0.708000\n",
      "Epoch: 20, Loss: 1.106632, Train accuracy: 0.750333, Val accuracy: 0.707000\n"
     ]
    }
   ],
   "source": [
    "# TODO: Implement MomentumSGD.update function in optim.py\n",
    "\n",
    "model = TwoLayerNet(n_input = train_X.shape[1], n_output = 10, hidden_layer_size = 100, reg = 16e-4)\n",
    "dataset = Dataset(train_X, train_y, val_X, val_y)\n",
    "trainer = Trainer(model, dataset, MomentumSGD(momentum=.85), learning_rate=5e-3, \n",
    "                  learning_rate_decay=0.99, num_epochs=20)\n",
    "\n",
    "# You should see even better results than before!\n",
    "loss_history, train_history, val_history = trainer.fit()"
   ]
  },
  {
   "cell_type": "code",
   "execution_count": 39,
   "metadata": {},
   "outputs": [
    {
     "data": {
      "image/png": "[encoded data removed]",
      "text/plain": [
       "<Figure size 1008x360 with 2 Axes>"
      ]
     },
     "metadata": {
      "needs_background": "light"
     },
     "output_type": "display_data"
    }
   ],
   "source": [
    "display_history(train_history, val_history, loss_history)"
   ]
  },
  {
   "cell_type": "markdown",
   "metadata": {},
   "source": [
    "# Ну что, давайте уже тренировать сеть!"
   ]
  },
  {
   "cell_type": "markdown",
   "metadata": {},
   "source": [
    "## Последний тест - переобучимся (overfit) на маленьком наборе данных\n",
    "\n",
    "Хороший способ проверить, все ли реализовано корректно - переобучить сеть на маленьком наборе данных.  \n",
    "Наша модель обладает достаточной мощностью, чтобы приблизить маленький набор данных идеально, поэтому мы ожидаем, что на нем мы быстро дойдем до 100% точности на тренировочном наборе. \n",
    "\n",
    "Если этого не происходит, то где-то была допущена ошибка!"
   ]
  },
  {
   "cell_type": "code",
   "execution_count": 36,
   "metadata": {},
   "outputs": [
    {
     "name": "stdout",
     "output_type": "stream",
     "text": [
      "Loss: 2.335755, Train accuracy: 0.200000, val accuracy: 0.133333\n",
      "Loss: 2.326342, Train accuracy: 0.200000, val accuracy: 0.133333\n",
      "Loss: 2.309442, Train accuracy: 0.200000, val accuracy: 0.133333\n",
      "Loss: 2.299321, Train accuracy: 0.200000, val accuracy: 0.133333\n",
      "Loss: 2.290999, Train accuracy: 0.266667, val accuracy: 0.000000\n",
      "Loss: 2.278685, Train accuracy: 0.266667, val accuracy: 0.000000\n",
      "Loss: 2.264226, Train accuracy: 0.266667, val accuracy: 0.000000\n",
      "Loss: 2.248465, Train accuracy: 0.266667, val accuracy: 0.000000\n",
      "Loss: 2.199292, Train accuracy: 0.333333, val accuracy: 0.000000\n",
      "Loss: 2.147894, Train accuracy: 0.400000, val accuracy: 0.000000\n",
      "Loss: 2.061874, Train accuracy: 0.400000, val accuracy: 0.000000\n",
      "Loss: 2.040482, Train accuracy: 0.400000, val accuracy: 0.000000\n",
      "Loss: 1.940365, Train accuracy: 0.400000, val accuracy: 0.000000\n",
      "Loss: 1.867840, Train accuracy: 0.333333, val accuracy: 0.000000\n",
      "Loss: 1.898471, Train accuracy: 0.333333, val accuracy: 0.000000\n",
      "Loss: 1.854052, Train accuracy: 0.333333, val accuracy: 0.000000\n",
      "Loss: 1.829749, Train accuracy: 0.400000, val accuracy: 0.000000\n",
      "Loss: 1.837162, Train accuracy: 0.400000, val accuracy: 0.000000\n",
      "Loss: 1.781087, Train accuracy: 0.400000, val accuracy: 0.000000\n",
      "Loss: 1.759153, Train accuracy: 0.400000, val accuracy: 0.000000\n",
      "Loss: 1.821091, Train accuracy: 0.400000, val accuracy: 0.000000\n",
      "Loss: 1.790705, Train accuracy: 0.466667, val accuracy: 0.000000\n",
      "Loss: 1.729459, Train accuracy: 0.400000, val accuracy: 0.000000\n",
      "Loss: 1.758421, Train accuracy: 0.466667, val accuracy: 0.000000\n",
      "Loss: 1.741658, Train accuracy: 0.466667, val accuracy: 0.066667\n",
      "Loss: 1.730131, Train accuracy: 0.466667, val accuracy: 0.066667\n",
      "Loss: 1.759598, Train accuracy: 0.466667, val accuracy: 0.066667\n",
      "Loss: 1.738891, Train accuracy: 0.466667, val accuracy: 0.000000\n",
      "Loss: 1.671214, Train accuracy: 0.466667, val accuracy: 0.066667\n",
      "Loss: 1.658779, Train accuracy: 0.466667, val accuracy: 0.000000\n",
      "Loss: 1.681260, Train accuracy: 0.466667, val accuracy: 0.000000\n",
      "Loss: 1.621519, Train accuracy: 0.600000, val accuracy: 0.066667\n",
      "Loss: 1.629063, Train accuracy: 0.600000, val accuracy: 0.066667\n",
      "Loss: 1.607521, Train accuracy: 0.600000, val accuracy: 0.066667\n",
      "Loss: 1.608138, Train accuracy: 0.666667, val accuracy: 0.066667\n",
      "Loss: 1.594023, Train accuracy: 0.666667, val accuracy: 0.066667\n",
      "Loss: 1.641239, Train accuracy: 0.666667, val accuracy: 0.000000\n",
      "Loss: 1.578539, Train accuracy: 0.666667, val accuracy: 0.066667\n",
      "Loss: 1.576860, Train accuracy: 0.600000, val accuracy: 0.000000\n",
      "Loss: 1.547455, Train accuracy: 0.666667, val accuracy: 0.066667\n",
      "Loss: 1.530196, Train accuracy: 0.666667, val accuracy: 0.066667\n",
      "Loss: 1.501311, Train accuracy: 0.733333, val accuracy: 0.066667\n",
      "Loss: 1.513644, Train accuracy: 0.666667, val accuracy: 0.066667\n",
      "Loss: 1.502910, Train accuracy: 0.666667, val accuracy: 0.066667\n",
      "Loss: 1.496779, Train accuracy: 0.733333, val accuracy: 0.066667\n",
      "Loss: 1.505003, Train accuracy: 0.800000, val accuracy: 0.066667\n",
      "Loss: 1.499077, Train accuracy: 0.800000, val accuracy: 0.066667\n",
      "Loss: 1.447981, Train accuracy: 0.800000, val accuracy: 0.066667\n",
      "Loss: 1.413603, Train accuracy: 0.733333, val accuracy: 0.066667\n",
      "Loss: 1.424561, Train accuracy: 0.733333, val accuracy: 0.133333\n",
      "Loss: 1.432184, Train accuracy: 0.733333, val accuracy: 0.000000\n",
      "Loss: 1.425309, Train accuracy: 0.733333, val accuracy: 0.066667\n",
      "Loss: 1.404130, Train accuracy: 0.733333, val accuracy: 0.066667\n",
      "Loss: 1.405702, Train accuracy: 0.733333, val accuracy: 0.066667\n",
      "Loss: 1.411748, Train accuracy: 0.800000, val accuracy: 0.066667\n",
      "Loss: 1.405558, Train accuracy: 0.733333, val accuracy: 0.066667\n",
      "Loss: 1.428575, Train accuracy: 0.733333, val accuracy: 0.066667\n",
      "Loss: 1.388443, Train accuracy: 0.733333, val accuracy: 0.066667\n",
      "Loss: 1.399249, Train accuracy: 0.800000, val accuracy: 0.066667\n",
      "Loss: 1.378051, Train accuracy: 0.733333, val accuracy: 0.066667\n",
      "Loss: 1.364713, Train accuracy: 0.800000, val accuracy: 0.066667\n",
      "Loss: 1.376854, Train accuracy: 0.733333, val accuracy: 0.066667\n",
      "Loss: 1.384370, Train accuracy: 0.800000, val accuracy: 0.066667\n",
      "Loss: 1.379518, Train accuracy: 0.733333, val accuracy: 0.066667\n",
      "Loss: 1.375480, Train accuracy: 0.800000, val accuracy: 0.066667\n",
      "Loss: 1.395197, Train accuracy: 0.800000, val accuracy: 0.066667\n",
      "Loss: 1.380982, Train accuracy: 0.800000, val accuracy: 0.066667\n",
      "Loss: 1.377269, Train accuracy: 0.800000, val accuracy: 0.066667\n",
      "Loss: 1.395352, Train accuracy: 0.800000, val accuracy: 0.066667\n",
      "Loss: 1.358883, Train accuracy: 0.800000, val accuracy: 0.066667\n",
      "Loss: 1.364278, Train accuracy: 0.800000, val accuracy: 0.066667\n",
      "Loss: 1.367354, Train accuracy: 0.800000, val accuracy: 0.066667\n",
      "Loss: 1.357666, Train accuracy: 0.800000, val accuracy: 0.066667\n",
      "Loss: 1.361396, Train accuracy: 0.800000, val accuracy: 0.066667\n",
      "Loss: 1.362097, Train accuracy: 0.800000, val accuracy: 0.066667\n",
      "Loss: 1.363104, Train accuracy: 0.866667, val accuracy: 0.066667\n",
      "Loss: 1.373196, Train accuracy: 0.866667, val accuracy: 0.066667\n",
      "Loss: 1.370839, Train accuracy: 0.866667, val accuracy: 0.066667\n",
      "Loss: 1.384138, Train accuracy: 0.866667, val accuracy: 0.066667\n",
      "Loss: 1.356047, Train accuracy: 0.866667, val accuracy: 0.066667\n",
      "Loss: 1.362217, Train accuracy: 0.866667, val accuracy: 0.066667\n",
      "Loss: 1.354125, Train accuracy: 0.866667, val accuracy: 0.066667\n",
      "Loss: 1.335646, Train accuracy: 0.866667, val accuracy: 0.066667\n",
      "Loss: 1.351274, Train accuracy: 0.866667, val accuracy: 0.066667\n",
      "Loss: 1.345415, Train accuracy: 0.866667, val accuracy: 0.066667\n",
      "Loss: 1.356199, Train accuracy: 0.866667, val accuracy: 0.066667\n",
      "Loss: 1.355259, Train accuracy: 0.866667, val accuracy: 0.066667\n",
      "Loss: 1.359253, Train accuracy: 0.866667, val accuracy: 0.066667\n",
      "Loss: 1.341272, Train accuracy: 0.866667, val accuracy: 0.066667\n",
      "Loss: 1.343216, Train accuracy: 0.866667, val accuracy: 0.066667\n",
      "Loss: 1.339080, Train accuracy: 0.866667, val accuracy: 0.066667\n",
      "Loss: 1.333056, Train accuracy: 0.866667, val accuracy: 0.066667\n",
      "Loss: 1.348566, Train accuracy: 0.866667, val accuracy: 0.066667\n",
      "Loss: 1.360203, Train accuracy: 0.866667, val accuracy: 0.066667\n",
      "Loss: 1.330436, Train accuracy: 0.866667, val accuracy: 0.066667\n",
      "Loss: 1.321939, Train accuracy: 0.866667, val accuracy: 0.066667\n",
      "Loss: 1.330721, Train accuracy: 0.866667, val accuracy: 0.066667\n",
      "Loss: 1.323008, Train accuracy: 0.933333, val accuracy: 0.066667\n",
      "Loss: 1.320365, Train accuracy: 0.933333, val accuracy: 0.066667\n",
      "Loss: 1.342669, Train accuracy: 0.933333, val accuracy: 0.066667\n",
      "Loss: 1.336149, Train accuracy: 0.933333, val accuracy: 0.066667\n",
      "Loss: 1.323151, Train accuracy: 0.933333, val accuracy: 0.066667\n",
      "Loss: 1.310281, Train accuracy: 0.933333, val accuracy: 0.000000\n",
      "Loss: 1.316597, Train accuracy: 0.933333, val accuracy: 0.000000\n",
      "Loss: 1.322307, Train accuracy: 0.933333, val accuracy: 0.000000\n",
      "Loss: 1.312065, Train accuracy: 1.000000, val accuracy: 0.000000\n",
      "Loss: 1.302302, Train accuracy: 0.933333, val accuracy: 0.000000\n",
      "Loss: 1.307877, Train accuracy: 1.000000, val accuracy: 0.000000\n",
      "Loss: 1.320814, Train accuracy: 1.000000, val accuracy: 0.000000\n",
      "Loss: 1.311542, Train accuracy: 1.000000, val accuracy: 0.000000\n",
      "Loss: 1.302000, Train accuracy: 0.933333, val accuracy: 0.000000\n",
      "Loss: 1.309764, Train accuracy: 0.933333, val accuracy: 0.000000\n",
      "Loss: 1.292459, Train accuracy: 0.933333, val accuracy: 0.000000\n",
      "Loss: 1.316924, Train accuracy: 0.933333, val accuracy: 0.000000\n",
      "Loss: 1.287022, Train accuracy: 1.000000, val accuracy: 0.000000\n",
      "Loss: 1.276597, Train accuracy: 1.000000, val accuracy: 0.000000\n",
      "Loss: 1.285898, Train accuracy: 1.000000, val accuracy: 0.000000\n",
      "Loss: 1.284352, Train accuracy: 1.000000, val accuracy: 0.000000\n",
      "Loss: 1.290076, Train accuracy: 1.000000, val accuracy: 0.000000\n",
      "Loss: 1.267684, Train accuracy: 1.000000, val accuracy: 0.000000\n",
      "Loss: 1.292919, Train accuracy: 1.000000, val accuracy: 0.000000\n",
      "Loss: 1.286101, Train accuracy: 1.000000, val accuracy: 0.000000\n",
      "Loss: 1.269270, Train accuracy: 1.000000, val accuracy: 0.000000\n",
      "Loss: 1.277860, Train accuracy: 0.933333, val accuracy: 0.000000\n",
      "Loss: 1.276035, Train accuracy: 1.000000, val accuracy: 0.000000\n",
      "Loss: 1.267670, Train accuracy: 1.000000, val accuracy: 0.000000\n",
      "Loss: 1.286246, Train accuracy: 1.000000, val accuracy: 0.000000\n",
      "Loss: 1.262069, Train accuracy: 1.000000, val accuracy: 0.000000\n",
      "Loss: 1.258795, Train accuracy: 1.000000, val accuracy: 0.000000\n",
      "Loss: 1.269512, Train accuracy: 1.000000, val accuracy: 0.000000\n",
      "Loss: 1.264143, Train accuracy: 1.000000, val accuracy: 0.000000\n"
     ]
    },
    {
     "name": "stdout",
     "output_type": "stream",
     "text": [
      "Loss: 1.270900, Train accuracy: 1.000000, val accuracy: 0.000000\n",
      "Loss: 1.255551, Train accuracy: 1.000000, val accuracy: 0.000000\n",
      "Loss: 1.249895, Train accuracy: 1.000000, val accuracy: 0.000000\n",
      "Loss: 1.248350, Train accuracy: 1.000000, val accuracy: 0.000000\n",
      "Loss: 1.255566, Train accuracy: 1.000000, val accuracy: 0.000000\n",
      "Loss: 1.250326, Train accuracy: 1.000000, val accuracy: 0.000000\n",
      "Loss: 1.275530, Train accuracy: 1.000000, val accuracy: 0.000000\n",
      "Loss: 1.266453, Train accuracy: 1.000000, val accuracy: 0.000000\n",
      "Loss: 1.261845, Train accuracy: 1.000000, val accuracy: 0.000000\n",
      "Loss: 1.262012, Train accuracy: 1.000000, val accuracy: 0.000000\n",
      "Loss: 1.252029, Train accuracy: 1.000000, val accuracy: 0.000000\n",
      "Loss: 1.250878, Train accuracy: 1.000000, val accuracy: 0.000000\n",
      "Loss: 1.246807, Train accuracy: 1.000000, val accuracy: 0.000000\n",
      "Loss: 1.257124, Train accuracy: 1.000000, val accuracy: 0.000000\n",
      "Loss: 1.271094, Train accuracy: 1.000000, val accuracy: 0.000000\n",
      "Loss: 1.252507, Train accuracy: 1.000000, val accuracy: 0.000000\n",
      "Loss: 1.258111, Train accuracy: 1.000000, val accuracy: 0.000000\n",
      "Loss: 1.258234, Train accuracy: 1.000000, val accuracy: 0.000000\n",
      "Loss: 1.272081, Train accuracy: 1.000000, val accuracy: 0.000000\n"
     ]
    }
   ],
   "source": [
    "data_size = 15\n",
    "model = TwoLayerNet(n_input = train_X.shape[1], n_output = 10, hidden_layer_size = 100, reg = 1e-1)\n",
    "dataset = Dataset(train_X[:data_size], train_y[:data_size], val_X[:data_size], val_y[:data_size])\n",
    "trainer = Trainer(model, dataset, SGD(), learning_rate=1e-1, num_epochs=150, batch_size=5)\n",
    "\n",
    "# You should expect this to reach 1.0 training accuracy \n",
    "loss_history, train_history, val_history = trainer.fit()"
   ]
  },
  {
   "cell_type": "markdown",
   "metadata": {},
   "source": [
    "Теперь найдем гипепараметры, для которых этот процесс сходится быстрее.\n",
    "Если все реализовано корректно, то существуют параметры, при которых процесс сходится в **20** эпох или еще быстрее.\n",
    "Найдите их!"
   ]
  },
  {
   "cell_type": "code",
   "execution_count": 40,
   "metadata": {},
   "outputs": [
    {
     "name": "stdout",
     "output_type": "stream",
     "text": [
      "Loss: 2.309810, Train accuracy: 0.266667, val accuracy: 0.066667\n",
      "Loss: 2.287178, Train accuracy: 0.266667, val accuracy: 0.000000\n",
      "Loss: 2.236027, Train accuracy: 0.200000, val accuracy: 0.133333\n",
      "Loss: 2.112532, Train accuracy: 0.400000, val accuracy: 0.000000\n",
      "Loss: 2.066487, Train accuracy: 0.400000, val accuracy: 0.000000\n",
      "Loss: 1.758764, Train accuracy: 0.400000, val accuracy: 0.000000\n",
      "Loss: 1.641560, Train accuracy: 0.333333, val accuracy: 0.133333\n",
      "Loss: 1.632801, Train accuracy: 0.533333, val accuracy: 0.000000\n",
      "Loss: 1.474697, Train accuracy: 0.466667, val accuracy: 0.000000\n",
      "Loss: 1.353838, Train accuracy: 0.666667, val accuracy: 0.000000\n",
      "Loss: 1.286296, Train accuracy: 0.533333, val accuracy: 0.066667\n",
      "Loss: 1.269594, Train accuracy: 0.600000, val accuracy: 0.066667\n",
      "Loss: 1.123230, Train accuracy: 0.733333, val accuracy: 0.066667\n",
      "Loss: 0.749725, Train accuracy: 0.733333, val accuracy: 0.000000\n",
      "Loss: 0.663399, Train accuracy: 0.800000, val accuracy: 0.066667\n",
      "Loss: 0.694323, Train accuracy: 0.800000, val accuracy: 0.066667\n",
      "Loss: 0.937654, Train accuracy: 0.933333, val accuracy: 0.000000\n",
      "Loss: 0.574533, Train accuracy: 1.000000, val accuracy: 0.000000\n",
      "Loss: 0.332336, Train accuracy: 1.000000, val accuracy: 0.000000\n",
      "Loss: 0.233314, Train accuracy: 1.000000, val accuracy: 0.000000\n"
     ]
    }
   ],
   "source": [
    "# Now, tweak some hyper parameters and make it train to 1.0 accuracy in 20 epochs or less\n",
    "\n",
    "model = TwoLayerNet(n_input = train_X.shape[1], n_output = 10, hidden_layer_size = 100, reg = .25e-2)\n",
    "dataset = Dataset(train_X[:data_size], train_y[:data_size], val_X[:data_size], val_y[:data_size])\n",
    "# TODO: Change any hyperparamers or optimizators to reach training accuracy in 20 epochs\n",
    "trainer = Trainer(model, dataset, SGD(), learning_rate=3e-1, num_epochs=20, batch_size=5)\n",
    "\n",
    "loss_history, train_history, val_history = trainer.fit()"
   ]
  },
  {
   "cell_type": "markdown",
   "metadata": {},
   "source": [
    "# Итак, основное мероприятие!\n",
    "\n",
    "Натренируйте лучшую нейросеть! Можно добавлять и изменять параметры, менять количество нейронов в слоях сети и как угодно экспериментировать. \n",
    "\n",
    "Добейтесь точности лучше **40%** на validation set."
   ]
  },
  {
   "cell_type": "code",
   "execution_count": null,
   "metadata": {
    "scrolled": true
   },
   "outputs": [],
   "source": [
    "from itertools import product\n",
    "from tqdm import tqdm_notebook\n",
    "# Let's train the best one-hidden-layer network we can\n",
    "\n",
    "learning_rates = 5e-3 * 10**np.random.uniform(-.5, .5, 5)\n",
    "reg_strength = 16e-4 * 10**np.random.uniform(-.5, .5, 5)\n",
    "learning_rate_decay = 0.99\n",
    "hidden_layer_size = 100\n",
    "num_epochs = 100\n",
    "\n",
    "\n",
    "best_classifier = None\n",
    "best_trainer = None\n",
    "best_val_accuracy = 0\n",
    "\n",
    "# TODO find the best hyperparameters to train the network\n",
    "# Don't hesitate to add new values to the arrays above, perform experiments, use any tricks you want\n",
    "# You should expect to get to at least 40% of valudation accuracy\n",
    "# Save loss/train/history of the best classifier to the variables above\n",
    "dataset = Dataset(train_X, train_y, val_X, val_y)\n",
    "for lr, rs in tqdm_notebook(list(product(learning_rates, reg_strength))):\n",
    "    print('----------')\n",
    "    print('Learning Rate: %.6f, Regularization: %.6f' % (lr, rs))\n",
    "    print('----------')\n",
    "    model = TwoLayerNet(n_input = train_X.shape[1], n_output = 10, \n",
    "                        hidden_layer_size = hidden_layer_size, reg = rs)\n",
    "    trainer = Trainer(model, dataset, MomentumSGD(), learning_rate=lr, \n",
    "                      learning_rate_decay=learning_rate_decay, num_epochs=num_epochs)\n",
    "    max_val_accuracy = max(trainer.fit()[2])\n",
    "    if(max_val_accuracy > best_val_accuracy):\n",
    "        best_val_accuracy = max_val_accuracy\n",
    "        best_classifier = model\n",
    "        best_trainer = trainer\n",
    "\n",
    "print('best validation accuracy achieved: %f' % best_val_accuracy)"
   ]
  },
  {
   "cell_type": "markdown",
   "metadata": {},
   "source": [
    "# Как обычно, посмотрим, как наша лучшая модель работает на тестовых данных"
   ]
  },
  {
   "cell_type": "code",
   "execution_count": 36,
   "metadata": {},
   "outputs": [
    {
     "name": "stdout",
     "output_type": "stream",
     "text": [
      "Neural net test set accuracy: 0.777000\n"
     ]
    }
   ],
   "source": [
    "test_pred = model.predict(test_X)\n",
    "test_accuracy = multiclass_accuracy(test_pred, test_y)\n",
    "print('Neural net test set accuracy: %f' % (test_accuracy, ))"
   ]
  }
 ],
 "metadata": {
  "kernelspec": {
   "display_name": "Python 3",
   "language": "python",
   "name": "python3"
  },
  "language_info": {
   "codemirror_mode": {
    "name": "ipython",
    "version": 3
   },
   "file_extension": ".py",
   "mimetype": "text/x-python",
   "name": "python",
   "nbconvert_exporter": "python",
   "pygments_lexer": "ipython3",
   "version": "3.7.2"
  },
  "latex_envs": {
   "LaTeX_envs_menu_present": true,
   "autoclose": false,
   "autocomplete": true,
   "bibliofile": "biblio.bib",
   "cite_by": "apalike",
   "current_citInitial": 1,
   "eqLabelWithNumbers": true,
   "eqNumInitial": 1,
   "hotkeys": {
    "equation": "Ctrl-E",
    "itemize": "Ctrl-I"
   },
   "labels_anchors": false,
   "latex_user_defs": false,
   "report_style_numbering": false,
   "user_envs_cfg": false
  }
 },
 "nbformat": 4,
 "nbformat_minor": 2
}

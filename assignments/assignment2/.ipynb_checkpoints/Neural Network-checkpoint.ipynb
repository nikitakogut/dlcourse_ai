{
 "cells": [
  {
   "cell_type": "markdown",
   "metadata": {},
   "source": [
    "# Задание 2.1 - Нейронные сети\n",
    "\n",
    "В этом задании вы реализуете и натренируете настоящую нейроную сеть своими руками!\n",
    "\n",
    "В некотором смысле это будет расширением прошлого задания - нам нужно просто составить несколько линейных классификаторов вместе!\n",
    "\n",
    "<img src=\"https://i.redd.it/n9fgba8b0qr01.png\" alt=\"Stack_more_layers\" width=\"400px\"/>"
   ]
  },
  {
   "cell_type": "code",
   "execution_count": 51,
   "metadata": {},
   "outputs": [
    {
     "name": "stdout",
     "output_type": "stream",
     "text": [
      "The autoreload extension is already loaded. To reload it, use:\n",
      "  %reload_ext autoreload\n"
     ]
    }
   ],
   "source": [
    "import numpy as np\n",
    "import matplotlib.pyplot as plt\n",
    "\n",
    "%matplotlib inline\n",
    "\n",
    "%load_ext autoreload\n",
    "%autoreload 2"
   ]
  },
  {
   "cell_type": "code",
   "execution_count": 52,
   "metadata": {},
   "outputs": [],
   "source": [
    "from dataset import load_svhn, random_split_train_val\n",
    "from gradient_check import check_layer_gradient, check_layer_param_gradient, check_model_gradient\n",
    "from layers import FullyConnectedLayer, ReLULayer\n",
    "from model import TwoLayerNet\n",
    "from trainer import Trainer, Dataset\n",
    "from optim import SGD, MomentumSGD\n",
    "from metrics import multiclass_accuracy"
   ]
  },
  {
   "cell_type": "markdown",
   "metadata": {},
   "source": [
    "# Загружаем данные\n",
    "\n",
    "И разделяем их на training и validation."
   ]
  },
  {
   "cell_type": "code",
   "execution_count": 53,
   "metadata": {},
   "outputs": [],
   "source": [
    "def prepare_for_neural_network(train_X, test_X):\n",
    "    train_flat = train_X.reshape(train_X.shape[0], -1).astype(np.float) / 255.0\n",
    "    test_flat = test_X.reshape(test_X.shape[0], -1).astype(np.float) / 255.0\n",
    "    \n",
    "    # Subtract mean\n",
    "    mean_image = np.mean(train_flat, axis = 0)\n",
    "    train_flat -= mean_image\n",
    "    test_flat -= mean_image\n",
    "    \n",
    "    return train_flat, test_flat\n",
    "    \n",
    "train_X, train_y, test_X, test_y = load_svhn(\"data\", max_train=10000, max_test=1000)    \n",
    "train_X, test_X = prepare_for_neural_network(train_X, test_X)\n",
    "# Split train into train and val\n",
    "train_X, train_y, val_X, val_y = random_split_train_val(train_X, train_y, num_val = 1000)"
   ]
  },
  {
   "cell_type": "markdown",
   "metadata": {},
   "source": [
    "# Как всегда, начинаем с кирпичиков\n",
    "\n",
    "Мы будем реализовывать необходимые нам слои по очереди. Каждый слой должен реализовать:\n",
    "- прямой проход (forward pass), который генерирует выход слоя по входу и запоминает необходимые данные\n",
    "- обратный проход (backward pass), который получает градиент по выходу слоя и вычисляет градиент по входу и по параметрам\n",
    "\n",
    "Начнем с ReLU, у которого параметров нет."
   ]
  },
  {
   "cell_type": "code",
   "execution_count": 54,
   "metadata": {
    "scrolled": false
   },
   "outputs": [
    {
     "data": {
      "text/plain": [
       "array([[ 1.61599406,  0.        ,  2.76252524],\n",
       "       [-0.        , -0.5060347 , -0.94302519]])"
      ]
     },
     "metadata": {},
     "output_type": "display_data"
    },
    {
     "name": "stdout",
     "output_type": "stream",
     "text": [
      "Gradient check passed!\n"
     ]
    }
   ],
   "source": [
    "# TODO: Implement ReLULayer layer in layers.py\n",
    "# Note: you'll need to copy implementation of the gradient_check function from the previous assignment\n",
    "\n",
    "X = np.array([[1,-2,3],\n",
    "              [-1, 2, 0.1]\n",
    "              ])\n",
    "\n",
    "assert check_layer_gradient(ReLULayer(), X)"
   ]
  },
  {
   "cell_type": "markdown",
   "metadata": {},
   "source": [
    "А теперь реализуем полносвязный слой (fully connected layer), у которого будет два массива параметров: W (weights) и B (bias).\n",
    "\n",
    "Все параметры наши слои будут использовать для параметров специальный класс `Param`, в котором будут храниться значения параметров и градиенты этих параметров, вычисляемые во время обратного прохода.\n",
    "\n",
    "Это даст возможность аккумулировать (суммировать) градиенты из разных частей функции потерь, например, из cross-entropy loss и regularization loss."
   ]
  },
  {
   "cell_type": "code",
   "execution_count": 55,
   "metadata": {},
   "outputs": [
    {
     "data": {
      "text/plain": [
       "array([[ 0.04189481,  0.17633777, -0.03499794],\n",
       "       [ 0.00782747, -0.06122931, -0.10994668]])"
      ]
     },
     "metadata": {},
     "output_type": "display_data"
    },
    {
     "name": "stdout",
     "output_type": "stream",
     "text": [
      "Gradient check passed!\n"
     ]
    },
    {
     "data": {
      "text/plain": [
       "array([[-1.67429365,  2.15318718, -0.15893916, -0.56958173],\n",
       "       [ 3.34858731, -4.30637437,  0.31787831,  1.13916345],\n",
       "       [-0.36258122,  5.45842018, -3.37773459, -0.89339967]])"
      ]
     },
     "metadata": {},
     "output_type": "display_data"
    },
    {
     "name": "stdout",
     "output_type": "stream",
     "text": [
      "Gradient check passed!\n"
     ]
    },
    {
     "data": {
      "text/plain": [
       "array([[-0.632844  , -0.39002832,  1.75340995,  0.51081366]])"
      ]
     },
     "metadata": {},
     "output_type": "display_data"
    },
    {
     "name": "stdout",
     "output_type": "stream",
     "text": [
      "Gradient check passed!\n"
     ]
    }
   ],
   "source": [
    "# TODO: Implement FullyConnected layer forward and backward methods\n",
    "assert check_layer_gradient(FullyConnectedLayer(3, 4), X)\n",
    "# TODO: Implement storing gradients for W and B\n",
    "assert check_layer_param_gradient(FullyConnectedLayer(3, 4), X, 'W')\n",
    "assert check_layer_param_gradient(FullyConnectedLayer(3, 4), X, 'B')"
   ]
  },
  {
   "cell_type": "markdown",
   "metadata": {},
   "source": [
    "## Создаем нейронную сеть\n",
    "\n",
    "Теперь мы реализуем простейшую нейронную сеть с двумя полносвязным слоями и нелинейностью ReLU. Реализуйте функцию `compute_loss_and_gradients`, она должна запустить прямой и обратный проход через оба слоя для вычисления градиентов.\n",
    "\n",
    "Не забудьте реализовать очистку градиентов в начале функции."
   ]
  },
  {
   "cell_type": "code",
   "execution_count": 83,
   "metadata": {},
   "outputs": [
    {
     "name": "stdout",
     "output_type": "stream",
     "text": [
      "Checking gradient for layer_1.0_W\n",
      "Gradient check passed!\n",
      "Checking gradient for layer_1.0_B\n",
      "Gradient check passed!\n",
      "Checking gradient for layer_2.0_W\n",
      "Gradient check passed!\n",
      "Checking gradient for layer_2.0_B\n",
      "Gradient check passed!\n"
     ]
    },
    {
     "data": {
      "text/plain": [
       "True"
      ]
     },
     "execution_count": 83,
     "metadata": {},
     "output_type": "execute_result"
    }
   ],
   "source": [
    "# TODO: In model.py, implement compute_loss_and_gradients function\n",
    "model = TwoLayerNet(n_input = train_X.shape[1], n_output = 10, hidden_layer_size = 7, reg = 0)\n",
    "loss = model.compute_loss_and_gradients(train_X[:10], train_y[:10])\n",
    "\n",
    "# TODO Now implement backward pass and aggregate all of the params\n",
    "check_model_gradient(model, train_X[:10], train_y[:10])"
   ]
  },
  {
   "cell_type": "markdown",
   "metadata": {},
   "source": [
    "Теперь добавьте к модели регуляризацию - она должна прибавляться к loss и делать свой вклад в градиенты."
   ]
  },
  {
   "cell_type": "code",
   "execution_count": 85,
   "metadata": {},
   "outputs": [
    {
     "name": "stdout",
     "output_type": "stream",
     "text": [
      "Checking gradient for layer_1.0_W\n",
      "Gradient check passed!\n",
      "Checking gradient for layer_1.0_B\n",
      "Gradient check passed!\n",
      "Checking gradient for layer_2.0_W\n",
      "Gradient check passed!\n",
      "Checking gradient for layer_2.0_B\n",
      "Gradient check passed!\n"
     ]
    },
    {
     "data": {
      "text/plain": [
       "True"
      ]
     },
     "execution_count": 85,
     "metadata": {},
     "output_type": "execute_result"
    }
   ],
   "source": [
    "# TODO Now implement l2 regularization in the forward and backward pass\n",
    "model_with_reg = TwoLayerNet(n_input = train_X.shape[1], n_output = 10, hidden_layer_size = 3, reg = 1e-1)\n",
    "loss_with_reg = model_with_reg.compute_loss_and_gradients(train_X[:10], train_y[:10])\n",
    "assert loss_with_reg > loss and not np.isclose(loss_with_reg, loss), \\\n",
    "    \"Loss with regularization (%2.4f) should be higher than without it (%2.4f)!\" % (loss, loss_with_reg)\n",
    "\n",
    "check_model_gradient(model_with_reg, train_X[:10], train_y[:10])"
   ]
  },
  {
   "cell_type": "markdown",
   "metadata": {},
   "source": [
    "Также реализуем функцию предсказания (вычисления значения) модели на новых данных.\n",
    "\n",
    "Какое значение точности мы ожидаем увидеть до начала тренировки?"
   ]
  },
  {
   "cell_type": "code",
   "execution_count": 86,
   "metadata": {},
   "outputs": [
    {
     "data": {
      "text/plain": [
       "0.16666666666666666"
      ]
     },
     "execution_count": 86,
     "metadata": {},
     "output_type": "execute_result"
    }
   ],
   "source": [
    "# Finally, implement predict function!\n",
    "\n",
    "# TODO: Implement predict function\n",
    "# What would be the value we expect?\n",
    "multiclass_accuracy(model_with_reg.predict(train_X[:30]), train_y[:30]) "
   ]
  },
  {
   "cell_type": "markdown",
   "metadata": {},
   "source": [
    "# Допишем код для процесса тренировки"
   ]
  },
  {
   "cell_type": "code",
   "execution_count": 117,
   "metadata": {},
   "outputs": [
    {
     "name": "stdout",
     "output_type": "stream",
     "text": [
      "Loss: 2.234738, Train accuracy: 0.227889, val accuracy: 0.236000\n",
      "Loss: 2.129594, Train accuracy: 0.302111, val accuracy: 0.313000\n",
      "Loss: 2.006943, Train accuracy: 0.394111, val accuracy: 0.402000\n",
      "Loss: 1.924561, Train accuracy: 0.507444, val accuracy: 0.507000\n",
      "Loss: 1.895172, Train accuracy: 0.503222, val accuracy: 0.500000\n",
      "Loss: 1.880026, Train accuracy: 0.561889, val accuracy: 0.546000\n",
      "Loss: 1.871837, Train accuracy: 0.549778, val accuracy: 0.531000\n",
      "Loss: 1.870150, Train accuracy: 0.582111, val accuracy: 0.577000\n",
      "Loss: 1.864500, Train accuracy: 0.581111, val accuracy: 0.598000\n",
      "Loss: 1.861274, Train accuracy: 0.494778, val accuracy: 0.516000\n",
      "Loss: 1.864226, Train accuracy: 0.573333, val accuracy: 0.581000\n",
      "Loss: 1.864591, Train accuracy: 0.560444, val accuracy: 0.572000\n",
      "Loss: 1.860121, Train accuracy: 0.572667, val accuracy: 0.588000\n",
      "Loss: 1.860508, Train accuracy: 0.571333, val accuracy: 0.557000\n",
      "Loss: 1.856180, Train accuracy: 0.576556, val accuracy: 0.610000\n",
      "Loss: 1.868592, Train accuracy: 0.585889, val accuracy: 0.595000\n",
      "Loss: 1.861577, Train accuracy: 0.611667, val accuracy: 0.614000\n",
      "Loss: 1.863327, Train accuracy: 0.554222, val accuracy: 0.564000\n",
      "Loss: 1.858835, Train accuracy: 0.597556, val accuracy: 0.605000\n",
      "Loss: 1.861597, Train accuracy: 0.572444, val accuracy: 0.559000\n"
     ]
    }
   ],
   "source": [
    "model = TwoLayerNet(n_input = train_X.shape[1], n_output = 10, hidden_layer_size = 100, reg = 1e-2)\n",
    "dataset = Dataset(train_X, train_y, val_X, val_y)\n",
    "trainer = Trainer(model, dataset, SGD(), learning_rate=1e-1)\n",
    "\n",
    "# TODO Implement missing pieces in Trainer.fit function\n",
    "# You should expect loss to go down and train and val accuracy go up for every epoch\n",
    "loss_history, train_history, val_history = trainer.fit()"
   ]
  },
  {
   "cell_type": "code",
   "execution_count": 118,
   "metadata": {},
   "outputs": [
    {
     "data": {
      "text/plain": [
       "[<matplotlib.lines.Line2D at 0x7fb6c080b2e8>]"
      ]
     },
     "execution_count": 118,
     "metadata": {},
     "output_type": "execute_result"
    },
    {
     "data": {
      "image/png": "[encoded data removed]",
      "text/plain": [
       "<Figure size 1008x360 with 2 Axes>"
      ]
     },
     "metadata": {
      "needs_background": "light"
     },
     "output_type": "display_data"
    }
   ],
   "source": [
    "plt.figure(figsize=(14, 5))\n",
    "plt.subplot('121')\n",
    "plt.plot(train_history)\n",
    "plt.plot(val_history)\n",
    "plt.subplot('122')\n",
    "plt.plot(loss_history)"
   ]
  },
  {
   "cell_type": "markdown",
   "metadata": {},
   "source": [
    "# Улучшаем процесс тренировки\n",
    "\n",
    "Мы реализуем несколько ключевых оптимизаций, необходимых для тренировки современных нейросетей."
   ]
  },
  {
   "cell_type": "markdown",
   "metadata": {},
   "source": [
    "## Уменьшение скорости обучения (learning rate decay)\n",
    "\n",
    "Одна из необходимых оптимизаций во время тренировки нейронных сетей - постепенное уменьшение скорости обучения по мере тренировки.\n",
    "\n",
    "Один из стандартных методов - уменьшение скорости обучения (learning rate) каждые N эпох на коэффициент d (часто называемый decay). Значения N и d, как всегда, являются гиперпараметрами и должны подбираться на основе эффективности на проверочных данных (validation data). \n",
    "\n",
    "В нашем случае N будет равным 1."
   ]
  },
  {
   "cell_type": "code",
   "execution_count": 119,
   "metadata": {},
   "outputs": [
    {
     "name": "stdout",
     "output_type": "stream",
     "text": [
      "Loss: 2.218339, Train accuracy: 0.236889, val accuracy: 0.238000\n",
      "Loss: 1.986338, Train accuracy: 0.398556, val accuracy: 0.386000\n",
      "Loss: 1.614283, Train accuracy: 0.515889, val accuracy: 0.525000\n",
      "Loss: 1.403813, Train accuracy: 0.626556, val accuracy: 0.629000\n",
      "Loss: 1.293788, Train accuracy: 0.674556, val accuracy: 0.656000\n",
      "Loss: 1.235230, Train accuracy: 0.694111, val accuracy: 0.667000\n",
      "Loss: 1.195592, Train accuracy: 0.689556, val accuracy: 0.656000\n",
      "Loss: 1.157133, Train accuracy: 0.720444, val accuracy: 0.687000\n",
      "Loss: 1.144576, Train accuracy: 0.720667, val accuracy: 0.665000\n",
      "Loss: 1.108363, Train accuracy: 0.734889, val accuracy: 0.683000\n",
      "Loss: 1.093065, Train accuracy: 0.756000, val accuracy: 0.707000\n",
      "Loss: 1.081059, Train accuracy: 0.746667, val accuracy: 0.713000\n",
      "Loss: 1.060433, Train accuracy: 0.704444, val accuracy: 0.660000\n",
      "Loss: 1.051335, Train accuracy: 0.747000, val accuracy: 0.694000\n",
      "Loss: 1.048929, Train accuracy: 0.750444, val accuracy: 0.706000\n",
      "Loss: 1.023348, Train accuracy: 0.778111, val accuracy: 0.726000\n",
      "Loss: 1.013911, Train accuracy: 0.750667, val accuracy: 0.681000\n",
      "Loss: 1.015029, Train accuracy: 0.802222, val accuracy: 0.723000\n",
      "Loss: 1.000704, Train accuracy: 0.809111, val accuracy: 0.719000\n",
      "Loss: 0.999926, Train accuracy: 0.739778, val accuracy: 0.672000\n"
     ]
    }
   ],
   "source": [
    "# TODO Implement learning rate decay inside Trainer.fit method\n",
    "# Decay should happen once per epoch\n",
    "\n",
    "model = TwoLayerNet(n_input = train_X.shape[1], n_output = 10, hidden_layer_size = 100, reg = 1e-3)\n",
    "dataset = Dataset(train_X, train_y, val_X, val_y)\n",
    "trainer = Trainer(model, dataset, SGD(), learning_rate=1e-1, learning_rate_decay=0.99)\n",
    "\n",
    "initial_learning_rate = trainer.learning_rate\n",
    "loss_history, train_history, val_history = trainer.fit()\n",
    "\n",
    "assert trainer.learning_rate < initial_learning_rate, \"Learning rate should've been reduced\"\n",
    "assert trainer.learning_rate > 0.5*initial_learning_rate, \"Learning rate shouldn'tve been reduced that much!\""
   ]
  },
  {
   "cell_type": "code",
   "execution_count": 120,
   "metadata": {},
   "outputs": [
    {
     "data": {
      "text/plain": [
       "[<matplotlib.lines.Line2D at 0x7fb6c074cbe0>]"
      ]
     },
     "execution_count": 120,
     "metadata": {},
     "output_type": "execute_result"
    },
    {
     "data": {
      "image/png": "[encoded data removed]",
      "text/plain": [
       "<Figure size 1008x360 with 2 Axes>"
      ]
     },
     "metadata": {
      "needs_background": "light"
     },
     "output_type": "display_data"
    }
   ],
   "source": [
    "plt.figure(figsize=(14, 5))\n",
    "plt.subplot('121')\n",
    "plt.plot(train_history)\n",
    "plt.plot(val_history)\n",
    "plt.subplot('122')\n",
    "plt.plot(loss_history)"
   ]
  },
  {
   "cell_type": "markdown",
   "metadata": {},
   "source": [
    "# Накопление импульса (Momentum SGD)\n",
    "\n",
    "Другой большой класс оптимизаций - использование более эффективных методов градиентного спуска. Мы реализуем один из них - накопление импульса (Momentum SGD).\n",
    "\n",
    "Этот метод хранит скорость движения, использует градиент для ее изменения на каждом шаге, и изменяет веса пропорционально значению скорости.\n",
    "(Физическая аналогия: Вместо скорости градиенты теперь будут задавать ускорение, но будет присутствовать сила трения.)\n",
    "\n",
    "```\n",
    "velocity = momentum * velocity - learning_rate * gradient \n",
    "w = w + velocity\n",
    "```\n",
    "\n",
    "`momentum` здесь коэффициент затухания, который тоже является гиперпараметром (к счастью, для него часто есть хорошее значение по умолчанию, типичный диапазон -- 0.8-0.99).\n",
    "\n",
    "Несколько полезных ссылок, где метод разбирается более подробно:  \n",
    "http://cs231n.github.io/neural-networks-3/#sgd  \n",
    "https://distill.pub/2017/momentum/"
   ]
  },
  {
   "cell_type": "code",
   "execution_count": null,
   "metadata": {},
   "outputs": [],
   "source": [
    "# TODO: Implement MomentumSGD.update function in optim.py\n",
    "\n",
    "model = TwoLayerNet(n_input = train_X.shape[1], n_output = 10, hidden_layer_size = 100, reg = 1e-1)\n",
    "dataset = Dataset(train_X, train_y, val_X, val_y)\n",
    "trainer = Trainer(model, dataset, MomentumSGD(), learning_rate=1e-4, learning_rate_decay=0.99)\n",
    "\n",
    "# You should see even better results than before!\n",
    "loss_history, train_history, val_history = trainer.fit()"
   ]
  },
  {
   "cell_type": "markdown",
   "metadata": {},
   "source": [
    "# Ну что, давайте уже тренировать сеть!"
   ]
  },
  {
   "cell_type": "markdown",
   "metadata": {},
   "source": [
    "## Последний тест - переобучимся (overfit) на маленьком наборе данных\n",
    "\n",
    "Хороший способ проверить, все ли реализовано корректно - переобучить сеть на маленьком наборе данных.  \n",
    "Наша модель обладает достаточной мощностью, чтобы приблизить маленький набор данных идеально, поэтому мы ожидаем, что на нем мы быстро дойдем до 100% точности на тренировочном наборе. \n",
    "\n",
    "Если этого не происходит, то где-то была допущена ошибка!"
   ]
  },
  {
   "cell_type": "code",
   "execution_count": 81,
   "metadata": {},
   "outputs": [
    {
     "name": "stdout",
     "output_type": "stream",
     "text": [
      "Loss: 2.335354, Train accuracy: 0.200000, val accuracy: 0.066667\n",
      "Loss: 2.327629, Train accuracy: 0.200000, val accuracy: 0.066667\n",
      "Loss: 2.329032, Train accuracy: 0.200000, val accuracy: 0.066667\n",
      "Loss: 2.301669, Train accuracy: 0.333333, val accuracy: 0.066667\n",
      "Loss: 2.300692, Train accuracy: 0.266667, val accuracy: 0.000000\n",
      "Loss: 2.245465, Train accuracy: 0.266667, val accuracy: 0.000000\n",
      "Loss: 2.268190, Train accuracy: 0.266667, val accuracy: 0.000000\n",
      "Loss: 2.183290, Train accuracy: 0.266667, val accuracy: 0.000000\n",
      "Loss: 2.164533, Train accuracy: 0.400000, val accuracy: 0.000000\n",
      "Loss: 1.916111, Train accuracy: 0.400000, val accuracy: 0.000000\n",
      "Loss: 2.177044, Train accuracy: 0.400000, val accuracy: 0.000000\n",
      "Loss: 2.170161, Train accuracy: 0.400000, val accuracy: 0.000000\n",
      "Loss: 1.887290, Train accuracy: 0.333333, val accuracy: 0.000000\n",
      "Loss: 2.060599, Train accuracy: 0.333333, val accuracy: 0.000000\n",
      "Loss: 1.639574, Train accuracy: 0.333333, val accuracy: 0.000000\n",
      "Loss: 2.128437, Train accuracy: 0.400000, val accuracy: 0.000000\n",
      "Loss: 2.008911, Train accuracy: 0.400000, val accuracy: 0.000000\n",
      "Loss: 1.525729, Train accuracy: 0.400000, val accuracy: 0.000000\n",
      "Loss: 1.866556, Train accuracy: 0.400000, val accuracy: 0.000000\n",
      "Loss: 1.844289, Train accuracy: 0.400000, val accuracy: 0.000000\n",
      "Loss: 1.879420, Train accuracy: 0.400000, val accuracy: 0.066667\n",
      "Loss: 1.813590, Train accuracy: 0.466667, val accuracy: 0.000000\n",
      "Loss: 1.858302, Train accuracy: 0.400000, val accuracy: 0.066667\n",
      "Loss: 2.197397, Train accuracy: 0.466667, val accuracy: 0.066667\n",
      "Loss: 1.582175, Train accuracy: 0.400000, val accuracy: 0.066667\n",
      "Loss: 1.695363, Train accuracy: 0.466667, val accuracy: 0.066667\n",
      "Loss: 2.150710, Train accuracy: 0.466667, val accuracy: 0.066667\n",
      "Loss: 1.874510, Train accuracy: 0.466667, val accuracy: 0.066667\n",
      "Loss: 1.795047, Train accuracy: 0.466667, val accuracy: 0.066667\n",
      "Loss: 1.848639, Train accuracy: 0.466667, val accuracy: 0.066667\n",
      "Loss: 2.117171, Train accuracy: 0.466667, val accuracy: 0.066667\n",
      "Loss: 1.778604, Train accuracy: 0.466667, val accuracy: 0.000000\n",
      "Loss: 1.919572, Train accuracy: 0.600000, val accuracy: 0.066667\n",
      "Loss: 1.286996, Train accuracy: 0.666667, val accuracy: 0.000000\n",
      "Loss: 1.738878, Train accuracy: 0.666667, val accuracy: 0.066667\n",
      "Loss: 1.766581, Train accuracy: 0.600000, val accuracy: 0.066667\n",
      "Loss: 1.803684, Train accuracy: 0.666667, val accuracy: 0.066667\n",
      "Loss: 1.111944, Train accuracy: 0.600000, val accuracy: 0.000000\n",
      "Loss: 1.778613, Train accuracy: 0.666667, val accuracy: 0.066667\n",
      "Loss: 1.079117, Train accuracy: 0.666667, val accuracy: 0.066667\n",
      "Loss: 1.935918, Train accuracy: 0.666667, val accuracy: 0.066667\n",
      "Loss: 1.572226, Train accuracy: 0.666667, val accuracy: 0.066667\n",
      "Loss: 1.453741, Train accuracy: 0.733333, val accuracy: 0.066667\n",
      "Loss: 1.644220, Train accuracy: 0.666667, val accuracy: 0.066667\n",
      "Loss: 1.404161, Train accuracy: 0.733333, val accuracy: 0.066667\n",
      "Loss: 1.134641, Train accuracy: 0.666667, val accuracy: 0.133333\n",
      "Loss: 1.883451, Train accuracy: 0.666667, val accuracy: 0.066667\n",
      "Loss: 1.286099, Train accuracy: 0.666667, val accuracy: 0.066667\n",
      "Loss: 1.733209, Train accuracy: 0.600000, val accuracy: 0.000000\n",
      "Loss: 1.624169, Train accuracy: 0.666667, val accuracy: 0.066667\n",
      "Loss: 1.601522, Train accuracy: 0.666667, val accuracy: 0.066667\n",
      "Loss: 1.800448, Train accuracy: 0.666667, val accuracy: 0.066667\n",
      "Loss: 1.615933, Train accuracy: 0.733333, val accuracy: 0.000000\n",
      "Loss: 1.151882, Train accuracy: 0.733333, val accuracy: 0.066667\n",
      "Loss: 1.231736, Train accuracy: 0.733333, val accuracy: 0.066667\n",
      "Loss: 1.726726, Train accuracy: 0.733333, val accuracy: 0.066667\n",
      "Loss: 1.689150, Train accuracy: 0.733333, val accuracy: 0.066667\n",
      "Loss: 1.544018, Train accuracy: 0.733333, val accuracy: 0.066667\n",
      "Loss: 1.437574, Train accuracy: 0.733333, val accuracy: 0.066667\n",
      "Loss: 0.933261, Train accuracy: 0.733333, val accuracy: 0.066667\n",
      "Loss: 1.385811, Train accuracy: 0.733333, val accuracy: 0.066667\n",
      "Loss: 0.976312, Train accuracy: 0.733333, val accuracy: 0.066667\n",
      "Loss: 1.534523, Train accuracy: 0.733333, val accuracy: 0.066667\n",
      "Loss: 1.502573, Train accuracy: 0.733333, val accuracy: 0.066667\n",
      "Loss: 1.208584, Train accuracy: 0.733333, val accuracy: 0.066667\n",
      "Loss: 1.013599, Train accuracy: 0.733333, val accuracy: 0.066667\n",
      "Loss: 1.248962, Train accuracy: 0.733333, val accuracy: 0.066667\n",
      "Loss: 1.678927, Train accuracy: 0.800000, val accuracy: 0.066667\n",
      "Loss: 1.284691, Train accuracy: 0.866667, val accuracy: 0.066667\n",
      "Loss: 1.657690, Train accuracy: 0.800000, val accuracy: 0.066667\n",
      "Loss: 1.467548, Train accuracy: 0.800000, val accuracy: 0.066667\n",
      "Loss: 1.608492, Train accuracy: 0.866667, val accuracy: 0.066667\n",
      "Loss: 1.327290, Train accuracy: 0.800000, val accuracy: 0.066667\n",
      "Loss: 1.163686, Train accuracy: 0.800000, val accuracy: 0.066667\n",
      "Loss: 1.921756, Train accuracy: 0.866667, val accuracy: 0.066667\n",
      "Loss: 1.594925, Train accuracy: 0.866667, val accuracy: 0.066667\n",
      "Loss: 1.194016, Train accuracy: 0.866667, val accuracy: 0.066667\n",
      "Loss: 1.376266, Train accuracy: 0.800000, val accuracy: 0.066667\n",
      "Loss: 1.558860, Train accuracy: 0.866667, val accuracy: 0.066667\n",
      "Loss: 1.766601, Train accuracy: 0.800000, val accuracy: 0.066667\n",
      "Loss: 1.207370, Train accuracy: 0.866667, val accuracy: 0.066667\n",
      "Loss: 1.575978, Train accuracy: 0.866667, val accuracy: 0.066667\n",
      "Loss: 1.525403, Train accuracy: 0.866667, val accuracy: 0.066667\n",
      "Loss: 0.976593, Train accuracy: 0.866667, val accuracy: 0.066667\n",
      "Loss: 1.252977, Train accuracy: 0.866667, val accuracy: 0.066667\n",
      "Loss: 1.627717, Train accuracy: 0.866667, val accuracy: 0.066667\n",
      "Loss: 1.311789, Train accuracy: 0.866667, val accuracy: 0.000000\n",
      "Loss: 1.504325, Train accuracy: 0.866667, val accuracy: 0.066667\n",
      "Loss: 1.488608, Train accuracy: 0.866667, val accuracy: 0.066667\n",
      "Loss: 1.517467, Train accuracy: 0.866667, val accuracy: 0.000000\n",
      "Loss: 1.409053, Train accuracy: 0.866667, val accuracy: 0.000000\n",
      "Loss: 1.548579, Train accuracy: 0.866667, val accuracy: 0.000000\n",
      "Loss: 1.278740, Train accuracy: 0.866667, val accuracy: 0.000000\n",
      "Loss: 1.222529, Train accuracy: 0.866667, val accuracy: 0.000000\n",
      "Loss: 1.644511, Train accuracy: 0.866667, val accuracy: 0.000000\n",
      "Loss: 1.239891, Train accuracy: 0.866667, val accuracy: 0.000000\n",
      "Loss: 1.677030, Train accuracy: 0.866667, val accuracy: 0.000000\n",
      "Loss: 1.101662, Train accuracy: 0.866667, val accuracy: 0.000000\n",
      "Loss: 1.852821, Train accuracy: 0.866667, val accuracy: 0.000000\n",
      "Loss: 1.781565, Train accuracy: 0.933333, val accuracy: 0.000000\n",
      "Loss: 1.536873, Train accuracy: 0.933333, val accuracy: 0.000000\n",
      "Loss: 1.762277, Train accuracy: 0.933333, val accuracy: 0.000000\n",
      "Loss: 1.164695, Train accuracy: 0.933333, val accuracy: 0.000000\n",
      "Loss: 1.617613, Train accuracy: 0.933333, val accuracy: 0.000000\n",
      "Loss: 1.500836, Train accuracy: 0.933333, val accuracy: 0.000000\n",
      "Loss: 1.477805, Train accuracy: 0.933333, val accuracy: 0.000000\n",
      "Loss: 1.413700, Train accuracy: 0.933333, val accuracy: 0.000000\n",
      "Loss: 1.191506, Train accuracy: 0.933333, val accuracy: 0.000000\n",
      "Loss: 1.102998, Train accuracy: 0.933333, val accuracy: 0.000000\n",
      "Loss: 1.285862, Train accuracy: 1.000000, val accuracy: 0.000000\n",
      "Loss: 1.548647, Train accuracy: 0.933333, val accuracy: 0.000000\n",
      "Loss: 1.351650, Train accuracy: 0.933333, val accuracy: 0.000000\n",
      "Loss: 1.116443, Train accuracy: 0.933333, val accuracy: 0.000000\n",
      "Loss: 1.583234, Train accuracy: 1.000000, val accuracy: 0.000000\n",
      "Loss: 1.408174, Train accuracy: 0.933333, val accuracy: 0.000000\n",
      "Loss: 1.307218, Train accuracy: 0.933333, val accuracy: 0.000000\n",
      "Loss: 1.158571, Train accuracy: 0.933333, val accuracy: 0.000000\n",
      "Loss: 1.196216, Train accuracy: 1.000000, val accuracy: 0.000000\n",
      "Loss: 1.182555, Train accuracy: 1.000000, val accuracy: 0.000000\n",
      "Loss: 1.220426, Train accuracy: 1.000000, val accuracy: 0.000000\n",
      "Loss: 1.450973, Train accuracy: 1.000000, val accuracy: 0.000000\n",
      "Loss: 1.104403, Train accuracy: 1.000000, val accuracy: 0.000000\n",
      "Loss: 1.644189, Train accuracy: 1.000000, val accuracy: 0.000000\n",
      "Loss: 1.144784, Train accuracy: 1.000000, val accuracy: 0.000000\n",
      "Loss: 1.204523, Train accuracy: 1.000000, val accuracy: 0.000000\n",
      "Loss: 1.202023, Train accuracy: 1.000000, val accuracy: 0.000000\n",
      "Loss: 1.340393, Train accuracy: 1.000000, val accuracy: 0.000000\n",
      "Loss: 1.146214, Train accuracy: 1.000000, val accuracy: 0.000000\n",
      "Loss: 1.050702, Train accuracy: 1.000000, val accuracy: 0.000000\n",
      "Loss: 1.192625, Train accuracy: 1.000000, val accuracy: 0.000000\n",
      "Loss: 1.697613, Train accuracy: 1.000000, val accuracy: 0.000000\n"
     ]
    },
    {
     "name": "stdout",
     "output_type": "stream",
     "text": [
      "Loss: 1.174911, Train accuracy: 1.000000, val accuracy: 0.000000\n",
      "Loss: 1.402982, Train accuracy: 1.000000, val accuracy: 0.000000\n",
      "Loss: 1.374619, Train accuracy: 1.000000, val accuracy: 0.000000\n",
      "Loss: 1.034747, Train accuracy: 1.000000, val accuracy: 0.000000\n",
      "Loss: 1.214800, Train accuracy: 1.000000, val accuracy: 0.000000\n",
      "Loss: 1.292087, Train accuracy: 1.000000, val accuracy: 0.000000\n",
      "Loss: 1.416533, Train accuracy: 1.000000, val accuracy: 0.000000\n",
      "Loss: 1.280542, Train accuracy: 1.000000, val accuracy: 0.000000\n",
      "Loss: 1.381930, Train accuracy: 1.000000, val accuracy: 0.000000\n",
      "Loss: 1.326713, Train accuracy: 1.000000, val accuracy: 0.000000\n",
      "Loss: 1.488149, Train accuracy: 1.000000, val accuracy: 0.000000\n",
      "Loss: 1.323568, Train accuracy: 1.000000, val accuracy: 0.000000\n",
      "Loss: 1.242033, Train accuracy: 1.000000, val accuracy: 0.000000\n",
      "Loss: 1.526071, Train accuracy: 1.000000, val accuracy: 0.000000\n",
      "Loss: 1.123871, Train accuracy: 1.000000, val accuracy: 0.000000\n",
      "Loss: 1.178243, Train accuracy: 1.000000, val accuracy: 0.000000\n",
      "Loss: 1.352452, Train accuracy: 1.000000, val accuracy: 0.000000\n",
      "Loss: 1.371461, Train accuracy: 1.000000, val accuracy: 0.000000\n",
      "Loss: 1.200353, Train accuracy: 1.000000, val accuracy: 0.000000\n"
     ]
    }
   ],
   "source": [
    "data_size = 15\n",
    "model = TwoLayerNet(n_input = train_X.shape[1], n_output = 10, hidden_layer_size = 100, reg = 1e-1)\n",
    "dataset = Dataset(train_X[:data_size], train_y[:data_size], val_X[:data_size], val_y[:data_size])\n",
    "trainer = Trainer(model, dataset, SGD(), learning_rate=1e-1, num_epochs=150, batch_size=5)\n",
    "\n",
    "# You should expect this to reach 1.0 training accuracy \n",
    "loss_history, train_history, val_history = trainer.fit()"
   ]
  },
  {
   "cell_type": "markdown",
   "metadata": {},
   "source": [
    "Теперь найдем гипепараметры, для которых этот процесс сходится быстрее.\n",
    "Если все реализовано корректно, то существуют параметры, при которых процесс сходится в **20** эпох или еще быстрее.\n",
    "Найдите их!"
   ]
  },
  {
   "cell_type": "code",
   "execution_count": null,
   "metadata": {},
   "outputs": [],
   "source": [
    "# Now, tweak some hyper parameters and make it train to 1.0 accuracy in 20 epochs or less\n",
    "\n",
    "model = TwoLayerNet(n_input = train_X.shape[1], n_output = 10, hidden_layer_size = 100, reg = 1e-1)\n",
    "dataset = Dataset(train_X[:data_size], train_y[:data_size], val_X[:data_size], val_y[:data_size])\n",
    "# TODO: Change any hyperparamers or optimizators to reach training accuracy in 20 epochs\n",
    "trainer = Trainer(model, dataset, SGD(), learning_rate=1e-1, num_epochs=20, batch_size=5)\n",
    "\n",
    "loss_history, train_history, val_history = trainer.fit()"
   ]
  },
  {
   "cell_type": "markdown",
   "metadata": {},
   "source": [
    "# Итак, основное мероприятие!\n",
    "\n",
    "Натренируйте лучшую нейросеть! Можно добавлять и изменять параметры, менять количество нейронов в слоях сети и как угодно экспериментировать. \n",
    "\n",
    "Добейтесь точности лучше **40%** на validation set."
   ]
  },
  {
   "cell_type": "code",
   "execution_count": null,
   "metadata": {
    "scrolled": true
   },
   "outputs": [],
   "source": [
    "# Let's train the best one-hidden-layer network we can\n",
    "\n",
    "learning_rates = 1e-4\n",
    "reg_strength = 1e-3\n",
    "learning_rate_decay = 0.999\n",
    "hidden_layer_size = 128\n",
    "num_epochs = 200\n",
    "batch_size = 64\n",
    "\n",
    "best_classifier = None\n",
    "best_val_accuracy = None\n",
    "\n",
    "loss_history = []\n",
    "train_history = []\n",
    "val_history = []\n",
    "\n",
    "# TODO find the best hyperparameters to train the network\n",
    "# Don't hesitate to add new values to the arrays above, perform experiments, use any tricks you want\n",
    "# You should expect to get to at least 40% of valudation accuracy\n",
    "# Save loss/train/history of the best classifier to the variables above\n",
    "\n",
    "print('best validation accuracy achieved: %f' % best_val_accuracy)"
   ]
  },
  {
   "cell_type": "code",
   "execution_count": null,
   "metadata": {},
   "outputs": [],
   "source": [
    "plt.figure(figsize=(15, 7))\n",
    "plt.subplot(211)\n",
    "plt.title(\"Loss\")\n",
    "plt.plot(loss_history)\n",
    "plt.subplot(212)\n",
    "plt.title(\"Train/validation accuracy\")\n",
    "plt.plot(train_history)\n",
    "plt.plot(val_history)"
   ]
  },
  {
   "cell_type": "markdown",
   "metadata": {},
   "source": [
    "# Как обычно, посмотрим, как наша лучшая модель работает на тестовых данных"
   ]
  },
  {
   "cell_type": "code",
   "execution_count": null,
   "metadata": {},
   "outputs": [],
   "source": [
    "test_pred = best_classifier.predict(test_X)\n",
    "test_accuracy = multiclass_accuracy(test_pred, test_y)\n",
    "print('Neural net test set accuracy: %f' % (test_accuracy, ))"
   ]
  }
 ],
 "metadata": {
  "kernelspec": {
   "display_name": "Python 3",
   "language": "python",
   "name": "python3"
  },
  "language_info": {
   "codemirror_mode": {
    "name": "ipython",
    "version": 3
   },
   "file_extension": ".py",
   "mimetype": "text/x-python",
   "name": "python",
   "nbconvert_exporter": "python",
   "pygments_lexer": "ipython3",
   "version": "3.7.2"
  },
  "latex_envs": {
   "LaTeX_envs_menu_present": true,
   "autoclose": false,
   "autocomplete": true,
   "bibliofile": "biblio.bib",
   "cite_by": "apalike",
   "current_citInitial": 1,
   "eqLabelWithNumbers": true,
   "eqNumInitial": 1,
   "hotkeys": {
    "equation": "Ctrl-E",
    "itemize": "Ctrl-I"
   },
   "labels_anchors": false,
   "latex_user_defs": false,
   "report_style_numbering": false,
   "user_envs_cfg": false
  }
 },
 "nbformat": 4,
 "nbformat_minor": 2
}

{
 "cells": [
  {
   "cell_type": "markdown",
   "metadata": {
    "colab_type": "text",
    "id": "H4YJV_kXXmLa"
   },
   "source": [
    "# Задание 2.2 - Введение в PyTorch\n",
    "\n",
    "Для этого задания потребуется установить версию PyTorch 1.0\n",
    "\n",
    "https://pytorch.org/get-started/locally/\n",
    "\n",
    "В этом задании мы познакомимся с основными компонентами PyTorch и натренируем несколько небольших моделей.<br>\n",
    "GPU нам пока не понадобится.\n",
    "\n",
    "Основные ссылки:  \n",
    "https://pytorch.org/tutorials/beginner/deep_learning_60min_blitz.html  \n",
    "https://pytorch.org/docs/stable/nn.html  \n",
    "https://pytorch.org/docs/stable/torchvision/index.html  "
   ]
  },
  {
   "cell_type": "code",
   "execution_count": 0,
   "metadata": {
    "colab": {},
    "colab_type": "code",
    "id": "ZQyLLucbXmLd",
    "scrolled": true
   },
   "outputs": [],
   "source": [
    "import torch\n",
    "import torch.nn as nn\n",
    "import torch.optim as optim\n",
    "import torchvision.datasets as dset\n",
    "from torch.utils.data.sampler import SubsetRandomSampler, Sampler\n",
    "\n",
    "from torchvision import transforms\n",
    "\n",
    "import matplotlib.pyplot as plt\n",
    "%matplotlib inline\n",
    "\n",
    "import numpy as np\n",
    "\n",
    "device = torch.device(\"cuda:0\") # Let's make sure GPU is available!"
   ]
  },
  {
   "cell_type": "markdown",
   "metadata": {
    "colab_type": "text",
    "id": "5S-XbW6iXmLj"
   },
   "source": [
    "## Как всегда, начинаем с загрузки данных\n",
    "\n",
    "PyTorch поддерживает загрузку SVHN из коробки."
   ]
  },
  {
   "cell_type": "code",
   "execution_count": 0,
   "metadata": {
    "colab": {
     "base_uri": "https://localhost:8080/",
     "height": 53
    },
    "colab_type": "code",
    "id": "YlOMhP9IXmLl",
    "outputId": "cb2efff4-beac-47a2-b1b7-4df37223b796",
    "scrolled": true
   },
   "outputs": [
    {
     "name": "stdout",
     "output_type": "stream",
     "text": [
      "Using downloaded and verified file: ./data/train_32x32.mat\n",
      "Using downloaded and verified file: ./data/test_32x32.mat\n"
     ]
    }
   ],
   "source": [
    "# First, lets load the dataset\n",
    "data_train = dset.SVHN('./data/', split='train', download=True,\n",
    "                       transform=transforms.Compose([\n",
    "                           transforms.ToTensor(),\n",
    "                           transforms.Normalize(mean=[0.43,0.44,0.47],\n",
    "                                                std=[0.20,0.20,0.20])                           \n",
    "                       ])\n",
    "                      )\n",
    "data_test = dset.SVHN('./data/', split='test', download=True,\n",
    "                      transform=transforms.Compose([\n",
    "                           transforms.ToTensor(),\n",
    "                           transforms.Normalize(mean=[0.43,0.44,0.47],\n",
    "                                               std=[0.20,0.20,0.20])                           \n",
    "                       ]))\n",
    "#plt.imshow(data_train.__getitem__(5)[0].permute(1, 2, 0))  "
   ]
  },
  {
   "cell_type": "markdown",
   "metadata": {
    "colab_type": "text",
    "id": "W-Q5r5jgXmLp"
   },
   "source": [
    "Теперь мы разделим данные на training и validation с использованием классов `SubsetRandomSampler` и `DataLoader`.\n",
    "\n",
    "`DataLoader` подгружает данные, предоставляемые классом `Dataset`, во время тренировки и группирует их в батчи.\n",
    "Он дает возможность указать `Sampler`, который выбирает, какие примеры из датасета использовать для тренировки. Мы используем это, чтобы разделить данные на training и validation.\n",
    "\n",
    "Подробнее: https://pytorch.org/tutorials/beginner/data_loading_tutorial.html"
   ]
  },
  {
   "cell_type": "code",
   "execution_count": 0,
   "metadata": {
    "colab": {},
    "colab_type": "code",
    "id": "dREoRty6XmLr",
    "scrolled": true
   },
   "outputs": [],
   "source": [
    "batch_size = 64\n",
    "\n",
    "data_size = data_train.data.shape[0]\n",
    "validation_split = .2\n",
    "split = int(np.floor(validation_split * data_size))\n",
    "indices = list(range(data_size))\n",
    "np.random.shuffle(indices)\n",
    "\n",
    "train_indices, val_indices = indices[split:], indices[:split]\n",
    "\n",
    "train_sampler = SubsetRandomSampler(train_indices)\n",
    "val_sampler = SubsetRandomSampler(val_indices)\n",
    "\n",
    "train_loader = torch.utils.data.DataLoader(data_train, batch_size=batch_size, \n",
    "                                           sampler=train_sampler)\n",
    "val_loader = torch.utils.data.DataLoader(data_train, batch_size=batch_size,\n",
    "                                         sampler=val_sampler)"
   ]
  },
  {
   "cell_type": "markdown",
   "metadata": {
    "colab_type": "text",
    "id": "TEbAsnlUXmLv"
   },
   "source": [
    "В нашей задаче мы получаем на вход изображения, но работаем с ними как с одномерными массивами. Чтобы превратить многомерный массив в одномерный, мы воспользуемся очень простым вспомогательным модулем `Flattener`."
   ]
  },
  {
   "cell_type": "code",
   "execution_count": 0,
   "metadata": {
    "colab": {
     "base_uri": "https://localhost:8080/",
     "height": 35
    },
    "colab_type": "code",
    "id": "l_BGcJy4XmLw",
    "outputId": "217d36ae-06f7-489c-f475-5d8bf067d64c",
    "scrolled": true
   },
   "outputs": [
    {
     "name": "stdout",
     "output_type": "stream",
     "text": [
      "SVHN data sample shape:  torch.Size([3, 32, 32])\n"
     ]
    }
   ],
   "source": [
    "sample, label = data_train[0]\n",
    "print(\"SVHN data sample shape: \", sample.shape)\n",
    "# As you can see, the data is shaped like an image\n",
    "\n",
    "# We'll use a special helper module to shape it into a tensor\n",
    "class Flattener(nn.Module):\n",
    "    def forward(self, x):\n",
    "        batch_size, *_ = x.shape\n",
    "        return x.view(batch_size, -1)"
   ]
  },
  {
   "cell_type": "markdown",
   "metadata": {
    "colab_type": "text",
    "id": "ggXub-oiXmL6"
   },
   "source": [
    "И наконец, мы создаем основные объекты PyTorch:\n",
    "- `model` - собственно, модель с нейросетью\n",
    "- `loss` - функцию ошибки, в нашем случае `CrossEntropyLoss`\n",
    "- `optimizer` - алгоритм оптимизации, в нашем случае просто `SGD`"
   ]
  },
  {
   "cell_type": "code",
   "execution_count": 0,
   "metadata": {
    "colab": {},
    "colab_type": "code",
    "id": "mrhkdr_FXmL7",
    "scrolled": true
   },
   "outputs": [],
   "source": [
    "def display_history(loss_history, train_history, val_history):\n",
    "    plt.figure(figsize=(14, 5))\n",
    "    plt.subplot('121')\n",
    "    plt.title(\"Train/Validation accuracy\")\n",
    "    plt.plot(train_history, label='train')\n",
    "    plt.plot(val_history, label='val')\n",
    "    plt.legend()\n",
    "    plt.subplot('122')\n",
    "    plt.title(\"Loss\")\n",
    "    plt.plot(loss_history, label='loss')\n",
    "    plt.legend();"
   ]
  },
  {
   "cell_type": "code",
   "execution_count": 0,
   "metadata": {
    "colab": {},
    "colab_type": "code",
    "id": "NTuD9cSlPuIp"
   },
   "outputs": [],
   "source": [
    "model = nn.Sequential(\n",
    "            Flattener(),\n",
    "            nn.Linear(3*32*32, 100),\n",
    "            nn.ReLU(inplace=True),\n",
    "            nn.Linear(100, 10)\n",
    "         )\n",
    "model.type(torch.cuda.FloatTensor)\n",
    "model.to(device) \n",
    "loss = nn.CrossEntropyLoss().type(torch.cuda.FloatTensor)\n",
    "optimizer = optim.SGD(model.parameters(), lr=1e-2, weight_decay=1e-1)"
   ]
  },
  {
   "cell_type": "markdown",
   "metadata": {
    "colab_type": "text",
    "id": "lSrkLVMMXmL_"
   },
   "source": [
    "## Тренируем!\n",
    "\n",
    "Ниже приведена функция `train_model`, реализующая основной цикл тренировки PyTorch.\n",
    "\n",
    "Каждую эпоху эта функция вызывает функцию `compute_accuracy`, которая вычисляет точность на validation, эту последнюю функцию предлагается реализовать вам."
   ]
  },
  {
   "cell_type": "code",
   "execution_count": 0,
   "metadata": {
    "colab": {},
    "colab_type": "code",
    "id": "ZcYOE0MaXmMB",
    "scrolled": true
   },
   "outputs": [],
   "source": [
    "# This is how to implement the same main train loop in PyTorch. Pretty easy, right?\n",
    "\n",
    "def train_model(model, train_loader, val_loader, loss, optimizer, num_epochs, scheduler=None):    \n",
    "    loss_history = []\n",
    "    train_history = []\n",
    "    val_history = []\n",
    "    for epoch in range(num_epochs):\n",
    "        if scheduler is not None:\n",
    "            scheduler.step()\n",
    "        model.train() # Enter train mode\n",
    "        \n",
    "        loss_accum = 0\n",
    "        correct_samples = 0\n",
    "        total_samples = 0\n",
    "        for i_step, (x, y) in enumerate(train_loader):\n",
    "            x_gpu = x.to(device)\n",
    "            y_gpu = y.to(device)\n",
    "            \n",
    "            prediction = model(x_gpu)    \n",
    "            loss_value = loss(prediction, y_gpu)\n",
    "            optimizer.zero_grad()\n",
    "            loss_value.backward()\n",
    "            optimizer.step()\n",
    "            \n",
    "            _, indices = torch.max(prediction, 1)\n",
    "            correct_samples += torch.sum(indices == y_gpu)\n",
    "            total_samples += y.shape[0]\n",
    "            \n",
    "            loss_accum += loss_value\n",
    "\n",
    "        ave_loss = loss_accum / (i_step + 1)\n",
    "        train_accuracy = float(correct_samples) / total_samples\n",
    "        val_accuracy = compute_accuracy(model, val_loader)\n",
    "        \n",
    "        loss_history.append(float(ave_loss))\n",
    "        train_history.append(train_accuracy)\n",
    "        val_history.append(val_accuracy)\n",
    "        \n",
    "        print(\"Epoch: %d, Average loss: %f, Train accuracy: %f, Val accuracy: %f\" % \n",
    "              (epoch+1, ave_loss, train_accuracy, val_accuracy))\n",
    "        \n",
    "    return loss_history, train_history, val_history\n",
    "        \n",
    "def compute_accuracy(model, loader):\n",
    "    \"\"\"\n",
    "    Computes accuracy on the dataset wrapped in a loader\n",
    "    \n",
    "    Returns: accuracy as a float value between 0 and 1\n",
    "    \"\"\"\n",
    "    model.eval() # Evaluation mode\n",
    "    # TODO: Implement the inference of the model on all of the batches from loader,\n",
    "    #       and compute the overall accuracy.\n",
    "    # Hint: torch doesn't have a dedicated argmax function,\n",
    "    #       but you can use torch.max instead (see the documentation).\n",
    "    #raise Exception(\"Not implemented\")\n",
    "    correct_samples = 0\n",
    "    total_samples = 0\n",
    "    for i_step, (x, y) in enumerate(loader):\n",
    "        x_gpu = x.to(device)\n",
    "        y_gpu = y.to(device)\n",
    "        \n",
    "        prediction = model(x_gpu)    \n",
    "        _, indices = torch.max(prediction, 1)\n",
    "        correct_samples += torch.sum(indices == y_gpu)\n",
    "        total_samples += y.shape[0]\n",
    "    return float(correct_samples) / total_samples"
   ]
  },
  {
   "cell_type": "code",
   "execution_count": 114,
   "metadata": {
    "colab": {
     "base_uri": "https://localhost:8080/",
     "height": 377
    },
    "colab_type": "code",
    "id": "8qFnoJbBRDJu",
    "outputId": "83d8070c-632c-44d4-d581-c99f465efaa8"
   },
   "outputs": [
    {
     "name": "stdout",
     "output_type": "stream",
     "text": [
      "Epoch: 1, Average loss: 1.820135, Train accuracy: 0.416715, Val accuracy: 0.556276\n",
      "Epoch: 2, Average loss: 1.446078, Train accuracy: 0.588728, Val accuracy: 0.604191\n",
      "Epoch: 3, Average loss: 1.373786, Train accuracy: 0.622888, Val accuracy: 0.629309\n",
      "Epoch: 4, Average loss: 1.348834, Train accuracy: 0.635771, Val accuracy: 0.633882\n",
      "Epoch: 5, Average loss: 1.335089, Train accuracy: 0.640395, Val accuracy: 0.643574\n",
      "Epoch: 6, Average loss: 1.325517, Train accuracy: 0.648790, Val accuracy: 0.651218\n",
      "Epoch: 7, Average loss: 1.321073, Train accuracy: 0.648603, Val accuracy: 0.650126\n",
      "Epoch: 8, Average loss: 1.317850, Train accuracy: 0.651333, Val accuracy: 0.654836\n",
      "Epoch: 9, Average loss: 1.315820, Train accuracy: 0.649729, Val accuracy: 0.650945\n",
      "Epoch: 10, Average loss: 1.314900, Train accuracy: 0.653175, Val accuracy: 0.630196\n",
      "Epoch: 11, Average loss: 1.311873, Train accuracy: 0.652988, Val accuracy: 0.645007\n",
      "Epoch: 12, Average loss: 1.310969, Train accuracy: 0.654131, Val accuracy: 0.656269\n",
      "Epoch: 13, Average loss: 1.311313, Train accuracy: 0.653619, Val accuracy: 0.656406\n",
      "Epoch: 14, Average loss: 1.309741, Train accuracy: 0.654131, Val accuracy: 0.661115\n",
      "Epoch: 15, Average loss: 1.310997, Train accuracy: 0.654199, Val accuracy: 0.658658\n",
      "Epoch: 16, Average loss: 1.308173, Train accuracy: 0.655206, Val accuracy: 0.652652\n",
      "Epoch: 17, Average loss: 1.308553, Train accuracy: 0.655906, Val accuracy: 0.652037\n",
      "Epoch: 18, Average loss: 1.308174, Train accuracy: 0.656315, Val accuracy: 0.653676\n",
      "Epoch: 19, Average loss: 1.308034, Train accuracy: 0.655769, Val accuracy: 0.646031\n",
      "Epoch: 20, Average loss: 1.305989, Train accuracy: 0.656708, Val accuracy: 0.646850\n"
     ]
    }
   ],
   "source": [
    "loss_history, train_history, val_history = train_model(model, train_loader, val_loader, loss, optimizer, 20)"
   ]
  },
  {
   "cell_type": "code",
   "execution_count": 116,
   "metadata": {
    "colab": {
     "base_uri": "https://localhost:8080/",
     "height": 335
    },
    "colab_type": "code",
    "id": "8io_z5G6URjF",
    "outputId": "0f445055-cad1-4498-b7c1-67a8f0792f14"
   },
   "outputs": [
    {
     "data": {
      "image/png": "[encoded data removed]",
      "text/plain": [
       "<Figure size 1008x360 with 2 Axes>"
      ]
     },
     "metadata": {
      "tags": []
     },
     "output_type": "display_data"
    }
   ],
   "source": [
    "display_history(loss_history, train_history, val_history)"
   ]
  },
  {
   "cell_type": "markdown",
   "metadata": {
    "colab_type": "text",
    "id": "G1-tvnsZXmMH"
   },
   "source": [
    "## После основного цикла\n",
    "\n",
    "Посмотрим на другие возможности и оптимизации, которые предоставляет PyTorch.\n",
    "\n",
    "Добавьте еще один скрытый слой размера 100 нейронов к модели"
   ]
  },
  {
   "cell_type": "code",
   "execution_count": 0,
   "metadata": {
    "colab": {},
    "colab_type": "code",
    "id": "jKMsD3PcXmMJ",
    "scrolled": true
   },
   "outputs": [],
   "source": [
    "# Since it's so easy to add layers, let's add some!\n",
    "\n",
    "# TODO: Implement a model with 2 hidden layers of the size 100\n",
    "model = nn.Sequential(\n",
    "    Flattener(),\n",
    "    nn.Linear(3*32*32, 100),\n",
    "    nn.ReLU(inplace=True),\n",
    "    nn.Linear(100, 100),\n",
    "    nn.ReLU(inplace=True),\n",
    "    nn.Linear(100, 10)\n",
    "       )\n",
    "model.type(torch.cuda.FloatTensor)\n",
    "model.to(device)\n",
    "\n",
    "optimizer = optim.SGD(model.parameters(), lr=1e-2, weight_decay=1e-1)\n",
    "loss_history, train_history, val_history = train_model(model, train_loader, val_loader, loss, optimizer, 20)"
   ]
  },
  {
   "cell_type": "markdown",
   "metadata": {
    "colab_type": "text",
    "id": "fpAz5aWTXmMO"
   },
   "source": [
    "Добавьте слой с Batch Normalization"
   ]
  },
  {
   "cell_type": "code",
   "execution_count": 0,
   "metadata": {
    "colab": {},
    "colab_type": "code",
    "id": "uB1dS-kqXmMQ",
    "scrolled": true
   },
   "outputs": [],
   "source": [
    "# We heard batch normalization is powerful, let's use it!\n",
    "# TODO: Add batch normalization after each of the hidden layers of the network, before or after non-linearity\n",
    "# Hint: check out torch.nn.BatchNorm1d\n",
    "\n",
    "model = nn.Sequential(\n",
    "    Flattener(),\n",
    "    nn.Linear(3*32*32, 100),\n",
    "    nn.BatchNorm1d(100),\n",
    "    nn.ReLU(inplace=True),\n",
    "    nn.Linear(100, 100),\n",
    "    nn.BatchNorm1d(100),\n",
    "    nn.ReLU(inplace=True),\n",
    "    nn.Linear(100, 10),\n",
    "         )\n",
    "model.type(torch.cuda.FloatTensor)\n",
    "model.to(device)\n",
    "\n",
    "optimizer = optim.SGD(model.parameters(), lr=1e-3, weight_decay=1e-1)\n",
    "loss_history, train_history, val_history = train_model(model, train_loader, val_loader, loss, optimizer, 20)"
   ]
  },
  {
   "cell_type": "markdown",
   "metadata": {
    "colab_type": "text",
    "id": "tdc_AF1eXmMX"
   },
   "source": [
    "Добавьте уменьшение скорости обучения по ходу тренировки."
   ]
  },
  {
   "cell_type": "code",
   "execution_count": 0,
   "metadata": {
    "colab": {},
    "colab_type": "code",
    "id": "fOFUIjZKXmMY",
    "scrolled": true
   },
   "outputs": [],
   "source": [
    "# Learning rate annealing\n",
    "# Reduce your learning rate 2x every 2 epochs\n",
    "# Hint: look up learning rate schedulers in PyTorch. You might need to extend train_model function a little bit too!\n",
    "\n",
    "model = nn.Sequential(\n",
    "    Flattener(),\n",
    "    nn.Linear(3*32*32, 100),\n",
    "    nn.BatchNorm1d(100),\n",
    "    nn.ReLU(inplace=True),\n",
    "    nn.Linear(100, 100),\n",
    "    nn.BatchNorm1d(100),\n",
    "    nn.ReLU(inplace=True),\n",
    "    nn.Linear(100, 10),\n",
    "         )\n",
    "model.type(torch.cuda.FloatTensor)\n",
    "model.to(device)\n",
    "\n",
    "optimizer = optim.SGD(model.parameters(), lr=1e-3, weight_decay=1e-2)\n",
    "scheduler = optim.lr_scheduler.LambdaLR(optimizer, lr_lambda=lambda epoch: .98**((epoch+1) // 2))\n",
    "loss_history, train_history, val_history = train_model(model, train_loader, val_loader, \n",
    "                                                       loss, optimizer, 20, scheduler)"
   ]
  },
  {
   "cell_type": "markdown",
   "metadata": {
    "colab_type": "text",
    "id": "4ZI54raYXmMf"
   },
   "source": [
    "# Визуализируем ошибки модели\n",
    "\n",
    "Попробуем посмотреть, на каких изображениях наша модель ошибается.\n",
    "Для этого мы получим все предсказания модели на validation set и сравним их с истинными метками (ground truth).\n",
    "\n",
    "Первая часть - реализовать код на PyTorch, который вычисляет все предсказания модели на validation set.  \n",
    "Чтобы это сделать мы приводим код `SubsetSampler`, который просто проходит по всем заданным индексам последовательно и составляет из них батчи. \n",
    "\n",
    "Реализуйте функцию `evaluate_model`, которая прогоняет модель через все сэмплы validation set и запоминает предсказания модели и истинные метки."
   ]
  },
  {
   "cell_type": "code",
   "execution_count": 0,
   "metadata": {
    "colab": {},
    "colab_type": "code",
    "id": "XZmBgAGwXmMh"
   },
   "outputs": [],
   "source": [
    "class SubsetSampler(Sampler):\n",
    "    r\"\"\"Samples elements with given indices sequentially\n",
    "\n",
    "    Arguments:\n",
    "        indices (ndarray): indices of the samples to take\n",
    "    \"\"\"\n",
    "\n",
    "    def __init__(self, indices):\n",
    "        self.indices = indices\n",
    "\n",
    "    def __iter__(self):\n",
    "        return (self.indices[i] for i in range(len(self.indices)))\n",
    "\n",
    "    def __len__(self):\n",
    "        return len(self.indices)\n",
    "    \n",
    "    \n",
    "def evaluate_model(model, dataset, indices):\n",
    "    \"\"\"\n",
    "    Computes predictions and ground truth labels for the indices of the dataset\n",
    "    \n",
    "    Returns: \n",
    "    predictions: np array of ints - model predictions\n",
    "    grount_truth: np array of ints - actual labels of the dataset\n",
    "    \"\"\"\n",
    "    model.eval() # Evaluation mode\n",
    "    \n",
    "    # TODO: Evaluate model on the list of indices and capture predictions\n",
    "    # and ground truth labels\n",
    "    # Hint: SubsetSampler above could be useful!\n",
    "    #raise Exception(\"Not implemented\")\n",
    "    sampler = SubsetSampler(indices)\n",
    "    loader = torch.utils.data.DataLoader(dataset, batch_size=batch_size, sampler=sampler)\n",
    "    predictions = []\n",
    "    ground_truth = []\n",
    "    for i_step, (x, y) in enumerate(loader):\n",
    "        x_gpu = x.to(device)\n",
    "        y_gpu = y.to(device)\n",
    "        \n",
    "        prediction = model(x_gpu)    \n",
    "        _, ind = torch.max(prediction, 1)\n",
    "        predictions += list(ind.cpu().data.numpy())\n",
    "        ground_truth += list(y.data.numpy())\n",
    "    return np.array(predictions), np.array(ground_truth)\n",
    "\n",
    "# Evaluate model on validation\n",
    "predictions, gt = evaluate_model(model, data_train, val_indices)\n",
    "assert len(predictions) == len(val_indices)\n",
    "assert len(gt) == len(val_indices)\n",
    "assert gt[100] == data_train[val_indices[100]][1]\n",
    "assert np.any(np.not_equal(gt, predictions))"
   ]
  },
  {
   "cell_type": "markdown",
   "metadata": {
    "colab_type": "text",
    "id": "wd11KA6rXmMl"
   },
   "source": [
    "## Confusion matrix\n",
    "Первая часть визуализации - вывести confusion matrix (https://en.wikipedia.org/wiki/Confusion_matrix ).\n",
    "\n",
    "Confusion matrix - это матрица, где каждой строке соответствуют классы предсказанный, а столбцу - классы истинных меток (ground truth). Число с координатами `i,j` - это количество сэмплов класса `j`, которые модель считает классом `i`.\n",
    "\n",
    "![image.png](attachment:image.png)\n",
    "\n",
    "Для того, чтобы облегчить вам задачу, ниже реализована функция `visualize_confusion_matrix` которая визуализирует такую матрицу.  \n",
    "Вам осталось реализовать функцию `build_confusion_matrix`, которая ее вычислит.\n",
    "\n",
    "Результатом должна быть матрица 10x10."
   ]
  },
  {
   "cell_type": "code",
   "execution_count": 120,
   "metadata": {
    "colab": {
     "base_uri": "https://localhost:8080/",
     "height": 575
    },
    "colab_type": "code",
    "id": "3sGCukUMXmMn",
    "outputId": "60a7b60b-4cc6-44a3-c402-1d61445331b2"
   },
   "outputs": [
    {
     "data": {
      "image/png": "[encoded data removed]",
      "text/plain": [
       "<Figure size 720x720 with 2 Axes>"
      ]
     },
     "metadata": {
      "tags": []
     },
     "output_type": "display_data"
    }
   ],
   "source": [
    "def visualize_confusion_matrix(confusion_matrix):\n",
    "    \"\"\"\n",
    "    Visualizes confusion matrix\n",
    "    \n",
    "    confusion_matrix: np array of ints, x axis - predicted class, y axis - actual class\n",
    "                      [i][j] should have the count of samples that were predicted to be class i,\n",
    "                      but have j in the ground truth\n",
    "                     \n",
    "    \"\"\"\n",
    "    # Adapted from \n",
    "    # https://stackoverflow.com/questions/2897826/confusion-matrix-with-number-of-classified-misclassified-instances-on-it-python\n",
    "    assert confusion_matrix.shape[0] == confusion_matrix.shape[1]\n",
    "    size = confusion_matrix.shape[0]\n",
    "    fig = plt.figure(figsize=(10,10))\n",
    "    plt.title(\"Confusion matrix\")\n",
    "    plt.ylabel(\"predicted\")\n",
    "    plt.xlabel(\"ground truth\")\n",
    "    res = plt.imshow(confusion_matrix, cmap='GnBu', interpolation='nearest')\n",
    "    cb = fig.colorbar(res)\n",
    "    plt.xticks(np.arange(size))\n",
    "    plt.yticks(np.arange(size))\n",
    "    for i, row in enumerate(confusion_matrix):\n",
    "        for j, count in enumerate(row):\n",
    "            plt.text(j, i, count, fontsize=14, horizontalalignment='center', verticalalignment='center')\n",
    "    \n",
    "def build_confusion_matrix(predictions, ground_truth):\n",
    "    \"\"\"\n",
    "    Builds confusion matrix from predictions and ground truth\n",
    "\n",
    "    predictions: np array of ints, model predictions for all validation samples\n",
    "    ground_truth: np array of ints, ground truth for all validation samples\n",
    "    \n",
    "    Returns:\n",
    "    np array of ints, (10,10), counts of samples for predicted/ground_truth classes\n",
    "    \"\"\"\n",
    "    \n",
    "    confusion_matrix = np.zeros((10,10), np.int)\n",
    "    \n",
    "    # TODO: Implement filling the prediction matrix\n",
    "    data = np.vstack((predictions, ground_truth)).T\n",
    "    for i in range(10):\n",
    "        for j in range(10):\n",
    "            confusion_matrix[i][j] = len(data[(data[:, 0] == i) & (data[:, 1] == j)])\n",
    "    return confusion_matrix\n",
    "\n",
    "confusion_matrix = build_confusion_matrix(predictions, gt)\n",
    "visualize_confusion_matrix(confusion_matrix)"
   ]
  },
  {
   "cell_type": "markdown",
   "metadata": {
    "colab_type": "text",
    "id": "Kal7jVtKXmMt"
   },
   "source": [
    "Наконец, посмотрим на изображения, соответствующие некоторым элементам этой матрицы.\n",
    "\n",
    "Как и раньше, вам дана функция `visualize_images`, которой нужно воспрользоваться при реализации функции `visualize_predicted_actual`. Эта функция должна вывести несколько примеров, соответствующих заданному элементу матрицы.\n",
    "\n",
    "Визуализируйте наиболее частые ошибки и попробуйте понять, почему модель их совершает."
   ]
  },
  {
   "cell_type": "code",
   "execution_count": 121,
   "metadata": {
    "colab": {
     "base_uri": "https://localhost:8080/",
     "height": 229
    },
    "colab_type": "code",
    "id": "cQaCttl9XmMw",
    "outputId": "5cb4529c-bbbe-4bc8-8aa1-088bd37cb3c9"
   },
   "outputs": [
    {
     "data": {
      "image/png": "[encoded data removed]",
      "text/plain": [
       "<Figure size 720x108 with 10 Axes>"
      ]
     },
     "metadata": {
      "tags": []
     },
     "output_type": "display_data"
    },
    {
     "data": {
      "image/png": "[encoded data removed]",
      "text/plain": [
       "<Figure size 720x108 with 10 Axes>"
      ]
     },
     "metadata": {
      "tags": []
     },
     "output_type": "display_data"
    }
   ],
   "source": [
    "data_train_images = dset.SVHN('./data/', split='train')\n",
    "\n",
    "def visualize_images(indices, data, title='', max_num=10):\n",
    "    \"\"\"\n",
    "    Visualizes several images from the dataset\n",
    " \n",
    "    indices: array of indices to visualize\n",
    "    data: torch Dataset with the images\n",
    "    title: string, title of the plot\n",
    "    max_num: int, max number of images to display\n",
    "    \"\"\"\n",
    "    to_show = min(len(indices), max_num)\n",
    "    fig = plt.figure(figsize=(10,1.5))\n",
    "    fig.suptitle(title)\n",
    "    for i, index in enumerate(indices[:to_show]):\n",
    "        plt.subplot(1,to_show, i+1)\n",
    "        plt.axis('off')\n",
    "        sample = data[index][0]\n",
    "        plt.imshow(sample)\n",
    "        \n",
    "def visualize_predicted_actual(predicted_class, gt_class, predictions, ground_truth, val_indices, val_data):\n",
    "    \"\"\"\n",
    "    Visualizes images of a ground truth class which were predicted as the other class \n",
    "    \n",
    "    predicted: int 0-9, index of the predicted class\n",
    "    gt_class: int 0-9, index of the ground truth class\n",
    "    predictions: np array of ints, model predictions for all validation samples\n",
    "    ground_truth: np array of ints, ground truth for all validation samples\n",
    "    val_indices: np array of ints, indices of validation samples\n",
    "    \"\"\"\n",
    "\n",
    "    # TODO: Implement visualization using visualize_images above\n",
    "    # predictions and ground_truth are provided for validation set only, defined by val_indices\n",
    "    # Hint: numpy index arrays might be helpful\n",
    "    # https://docs.scipy.org/doc/numpy/user/basics.indexing.html#index-arrays\n",
    "    # Please make the title meaningful!\n",
    "    #raise Exception(\"Not implemented\")\n",
    "    data = np.vstack((val_indices, predictions, ground_truth)).T\n",
    "    indices = data[(data[:, 1] == predicted_class) & (data[:, 2] == gt_class)][:,0]\n",
    "    title = f'Failing samples. Predicted: {predicted_class}, Actual: {gt_class}'\n",
    "    visualize_images(indices, val_data, title=title, max_num=10)\n",
    "\n",
    "visualize_predicted_actual(6, 8, predictions, gt, np.array(val_indices), data_train_images)\n",
    "visualize_predicted_actual(1, 7, predictions, gt, np.array(val_indices), data_train_images)"
   ]
  },
  {
   "cell_type": "markdown",
   "metadata": {
    "colab_type": "text",
    "id": "vZEEVy5eXmM6"
   },
   "source": [
    "# Переходим к свободным упражнениям!\n",
    "\n",
    "Натренируйте модель как можно лучше - экспериментируйте сами!\n",
    "Что следует обязательно попробовать:\n",
    "- перебор гиперпараметров с помощью валидационной выборки\n",
    "- другие оптимизаторы вместо SGD\n",
    "- изменение количества слоев и их размеров\n",
    "- наличие Batch Normalization\n",
    "\n",
    "Но ограничиваться этим не стоит!\n",
    "\n",
    "Точность на валидацонной выборке должна быть доведена до **60%**\n",
    "\n",
    "За лучший результат в группе вы получите дополнительные баллы :)"
   ]
  },
  {
   "cell_type": "code",
   "execution_count": 181,
   "metadata": {
    "colab": {
     "base_uri": "https://localhost:8080/",
     "height": 377
    },
    "colab_type": "code",
    "id": "e7FaEaIIXmM8",
    "outputId": "cb78fac6-75bd-46af-9644-062c7c9c7a2b",
    "scrolled": true
   },
   "outputs": [
    {
     "name": "stdout",
     "output_type": "stream",
     "text": [
      "Epoch: 1, Average loss: 1.396379, Train accuracy: 0.567382, Val accuracy: 0.702751\n",
      "Epoch: 2, Average loss: 0.923169, Train accuracy: 0.713016, Val accuracy: 0.737015\n",
      "Epoch: 3, Average loss: 0.785341, Train accuracy: 0.755554, Val accuracy: 0.778036\n",
      "Epoch: 4, Average loss: 0.710075, Train accuracy: 0.779135, Val accuracy: 0.781244\n",
      "Epoch: 5, Average loss: 0.658568, Train accuracy: 0.794509, Val accuracy: 0.813733\n",
      "Epoch: 6, Average loss: 0.624697, Train accuracy: 0.805856, Val accuracy: 0.818374\n",
      "Epoch: 7, Average loss: 0.599260, Train accuracy: 0.811521, Val accuracy: 0.816668\n",
      "Epoch: 8, Average loss: 0.572244, Train accuracy: 0.820394, Val accuracy: 0.832571\n",
      "Epoch: 9, Average loss: 0.553122, Train accuracy: 0.826281, Val accuracy: 0.817555\n",
      "Epoch: 10, Average loss: 0.535268, Train accuracy: 0.832065, Val accuracy: 0.814893\n",
      "Epoch: 11, Average loss: 0.520041, Train accuracy: 0.837747, Val accuracy: 0.834755\n",
      "Epoch: 12, Average loss: 0.502488, Train accuracy: 0.842371, Val accuracy: 0.823357\n",
      "Epoch: 13, Average loss: 0.495927, Train accuracy: 0.843702, Val accuracy: 0.834960\n",
      "Epoch: 14, Average loss: 0.483654, Train accuracy: 0.848207, Val accuracy: 0.837690\n",
      "Epoch: 15, Average loss: 0.473103, Train accuracy: 0.850135, Val accuracy: 0.840489\n",
      "Epoch: 16, Average loss: 0.459308, Train accuracy: 0.855680, Val accuracy: 0.841922\n",
      "Epoch: 17, Average loss: 0.452038, Train accuracy: 0.858905, Val accuracy: 0.842332\n",
      "Epoch: 18, Average loss: 0.442464, Train accuracy: 0.860304, Val accuracy: 0.832571\n",
      "Epoch: 19, Average loss: 0.433455, Train accuracy: 0.862659, Val accuracy: 0.843287\n",
      "Epoch: 20, Average loss: 0.425155, Train accuracy: 0.867061, Val accuracy: 0.846154\n"
     ]
    }
   ],
   "source": [
    "# Experiment here!\n",
    "#Best: Average loss: 0.304722, Train accuracy: 0.906955, Val accuracy: 0.866289 (pretrained)\n",
    "model = nn.Sequential(\n",
    "    Flattener(),\n",
    "    #---\n",
    "    nn.Linear(3*32*32, 200),\n",
    "    nn.BatchNorm1d(200),\n",
    "    nn.ReLU(inplace=True),\n",
    "    #---\n",
    "    nn.Linear(200, 200),\n",
    "    nn.BatchNorm1d(200),\n",
    "    nn.ReLU(inplace=True),\n",
    "    #---\n",
    "    nn.Linear(200, 10),\n",
    "         )\n",
    "model.type(torch.cuda.FloatTensor)\n",
    "model.to(device)\n",
    "\n",
    "optimizer = optim.Adam(model.parameters(), lr=2.5e-4, weight_decay=2e-4)\n",
    "scheduler = optim.lr_scheduler.LambdaLR(optimizer, lr_lambda=lambda epoch: .985**((epoch+1) // 2))\n",
    "loss_history, train_history, val_history = train_model(model, train_loader, val_loader, \n",
    "                                                       loss, optimizer, 20, scheduler)\n",
    "#Epoch: 1, Average loss: 1.422093, Train accuracy: 0.554073, Val accuracy: 0.707802\n",
    "#Epoch: 5, Average loss: 0.661490, Train accuracy: 0.793025, Val accuracy: 0.800833\n",
    "#Epoch: 10, Average loss: 0.524439, Train accuracy: 0.835324, Val accuracy: 0.834278\n",
    "#Epoch: 15, Average loss: 0.462645, Train accuracy: 0.854622, Val accuracy: 0.845744\n",
    "#Epoch: 20, Average loss: 0.412639, Train accuracy: 0.869245, Val accuracy: 0.847997"
   ]
  },
  {
   "cell_type": "code",
   "execution_count": 182,
   "metadata": {
    "colab": {
     "base_uri": "https://localhost:8080/",
     "height": 71
    },
    "colab_type": "code",
    "id": "zjzaoQGJq_vf",
    "outputId": "8dd20249-4ec8-4bfa-e553-15112fe48840"
   },
   "outputs": [
    {
     "name": "stdout",
     "output_type": "stream",
     "text": [
      "Epoch: 1, Average loss: 0.354371, Train accuracy: 0.891359, Val accuracy: 0.863081\n",
      "Epoch: 2, Average loss: 0.337419, Train accuracy: 0.895881, Val accuracy: 0.861443\n",
      "Epoch: 3, Average loss: 0.334482, Train accuracy: 0.897092, Val accuracy: 0.862262\n"
     ]
    }
   ],
   "source": [
    "optimizer = optim.Adam(model.parameters(), lr=5e-5, weight_decay=4e-4)\n",
    "loss_history, train_history, val_history = train_model(model, train_loader, val_loader, loss, optimizer, 3)"
   ]
  },
  {
   "cell_type": "code",
   "execution_count": 184,
   "metadata": {
    "colab": {
     "base_uri": "https://localhost:8080/",
     "height": 71
    },
    "colab_type": "code",
    "id": "QhD42dfCB_Vn",
    "outputId": "32282e8e-1b97-4513-f286-5fd7ef3b9867"
   },
   "outputs": [
    {
     "name": "stdout",
     "output_type": "stream",
     "text": [
      "Epoch: 1, Average loss: 0.315068, Train accuracy: 0.903474, Val accuracy: 0.864651\n",
      "Epoch: 2, Average loss: 0.312932, Train accuracy: 0.905027, Val accuracy: 0.865470\n",
      "Epoch: 3, Average loss: 0.309584, Train accuracy: 0.905573, Val accuracy: 0.864719\n"
     ]
    }
   ],
   "source": [
    "optimizer = optim.Adam(model.parameters(), lr=1e-5, weight_decay=8e-4)\n",
    "loss_history, train_history, val_history = train_model(model, train_loader, val_loader, loss, optimizer, 3)"
   ]
  },
  {
   "cell_type": "code",
   "execution_count": 186,
   "metadata": {
    "colab": {
     "base_uri": "https://localhost:8080/",
     "height": 71
    },
    "colab_type": "code",
    "id": "rIyV3tJ6Cdw8",
    "outputId": "919d13f0-4ef5-4efa-a8eb-4fd408e0dffe"
   },
   "outputs": [
    {
     "name": "stdout",
     "output_type": "stream",
     "text": [
      "Epoch: 1, Average loss: 0.304667, Train accuracy: 0.907774, Val accuracy: 0.865333\n",
      "Epoch: 2, Average loss: 0.304877, Train accuracy: 0.905897, Val accuracy: 0.864310\n",
      "Epoch: 3, Average loss: 0.305373, Train accuracy: 0.907313, Val accuracy: 0.865470\n"
     ]
    }
   ],
   "source": [
    "optimizer = optim.Adam(model.parameters(), lr=5e-6, weight_decay=1.6e-3)\n",
    "loss_history, train_history, val_history = train_model(model, train_loader, val_loader, loss, optimizer, 3)"
   ]
  },
  {
   "cell_type": "code",
   "execution_count": 189,
   "metadata": {
    "colab": {
     "base_uri": "https://localhost:8080/",
     "height": 71
    },
    "colab_type": "code",
    "id": "tTWQXc00J070",
    "outputId": "e13beb19-b29f-4131-9c90-6e50ef57dc8b"
   },
   "outputs": [
    {
     "name": "stdout",
     "output_type": "stream",
     "text": [
      "Epoch: 1, Average loss: 0.301315, Train accuracy: 0.909122, Val accuracy: 0.865470\n",
      "Epoch: 2, Average loss: 0.302911, Train accuracy: 0.907928, Val accuracy: 0.864992\n",
      "Epoch: 3, Average loss: 0.304722, Train accuracy: 0.906955, Val accuracy: 0.866289\n"
     ]
    }
   ],
   "source": [
    "optimizer = optim.Adam(model.parameters(), lr=.5e-6, weight_decay=1.6e-3)\n",
    "loss_history, train_history, val_history = train_model(model, train_loader, val_loader, loss, optimizer, 3)"
   ]
  },
  {
   "cell_type": "code",
   "execution_count": 190,
   "metadata": {
    "colab": {
     "base_uri": "https://localhost:8080/",
     "height": 35
    },
    "colab_type": "code",
    "id": "WFaWu9-bXmNE",
    "outputId": "81533685-18f8-450a-d22c-fdfc28bb65cf"
   },
   "outputs": [
    {
     "name": "stdout",
     "output_type": "stream",
     "text": [
      "Test accuracy: 0.8503\n"
     ]
    }
   ],
   "source": [
    "# Как всегда, в конце проверяем на test set\n",
    "#Best: 8503\n",
    "test_loader = torch.utils.data.DataLoader(data_test, batch_size=batch_size)\n",
    "test_accuracy = compute_accuracy(model, test_loader)\n",
    "print(\"Test accuracy: %2.4f\" % test_accuracy)"
   ]
  }
 ],
 "metadata": {
  "accelerator": "GPU",
  "colab": {
   "collapsed_sections": [
    "5S-XbW6iXmLj",
    "lSrkLVMMXmL_",
    "wd11KA6rXmMl"
   ],
   "name": "PyTorch.ipynb",
   "provenance": [],
   "version": "0.3.2"
  },
  "kernelspec": {
   "display_name": "Python 3",
   "language": "python",
   "name": "python3"
  },
  "language_info": {
   "codemirror_mode": {
    "name": "ipython",
    "version": 3
   },
   "file_extension": ".py",
   "mimetype": "text/x-python",
   "name": "python",
   "nbconvert_exporter": "python",
   "pygments_lexer": "ipython3",
   "version": "3.7.2"
  },
  "latex_envs": {
   "LaTeX_envs_menu_present": true,
   "autoclose": false,
   "autocomplete": true,
   "bibliofile": "biblio.bib",
   "cite_by": "apalike",
   "current_citInitial": 1,
   "eqLabelWithNumbers": true,
   "eqNumInitial": 1,
   "hotkeys": {
    "equation": "Ctrl-E",
    "itemize": "Ctrl-I"
   },
   "labels_anchors": false,
   "latex_user_defs": false,
   "report_style_numbering": false,
   "user_envs_cfg": false
  }
 },
 "nbformat": 4,
 "nbformat_minor": 1
}
